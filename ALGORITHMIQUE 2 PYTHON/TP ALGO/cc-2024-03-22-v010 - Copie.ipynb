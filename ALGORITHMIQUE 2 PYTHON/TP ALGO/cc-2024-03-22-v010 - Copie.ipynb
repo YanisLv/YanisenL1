{
 "cells": [
  {
   "cell_type": "markdown",
   "id": "cfafe16b",
   "metadata": {},
   "source": [
    "# Contrôle continu du 22 mars 2024\n",
    "\n",
    "Les fonctions demandées sont décrites partiellement : signature, documentation (doc-string) et pré-conditions.  \n",
    "Ne pas modifier ces éléments qui sont donnés pour vous aider.  \n",
    "En revanche, vos réponses doivent remplacer les 2 dernières lignes de ces cellules :\n",
    "```python\n",
    "# ENTRER VOTRE CODE A LA PLACE DE CES 2 LIGNES\n",
    "raise NotImplementedError()\n",
    "```\n",
    "Bon travail."
   ]
  },
  {
   "cell_type": "markdown",
   "id": "b3702093",
   "metadata": {
    "nbgrader": {
     "cell_type": "markdown",
     "checksum": "97ad0299a310997d916beead1d8d9cc1",
     "grade": false,
     "grade_id": "cell-77bd4ad42455b1f4",
     "locked": true,
     "schema_version": 3,
     "solution": false,
     "task": false
    }
   },
   "source": [
    "## Exercice 1 : une fonction inconnue\n",
    "\n",
    "### Quoi\n",
    "\n",
    "Que calcule et retourne la fonction `f` ?"
   ]
  },
  {
   "cell_type": "code",
   "execution_count": null,
   "id": "bc3aba06",
   "metadata": {},
   "outputs": [],
   "source": [
    "def f(l: list[int], n: int, s: int) -> int:\n",
    "    '''Que fait f ?'''\n",
    "    assert n == len(l)\n",
    "    assert n > 0\n",
    "    c = 0\n",
    "    for i in range(len(l)):\n",
    "        if l[i] < s :\n",
    "            c = c + 1\n",
    "    return c"
   ]
  },
  {
   "cell_type": "markdown",
   "id": "d2a75cd7",
   "metadata": {},
   "source": [
    "VOTRE REPONSE CI DESSOUS"
   ]
  },
  {
   "cell_type": "markdown",
   "id": "401a5233-63c1-4481-868d-8bd35622b123",
   "metadata": {},
   "source": [
    "### C'est sûr ?\n",
    "\n",
    "#### Six premiers tests unitaires\n",
    "\n",
    "Utiliser les 3 listes d'entiers `[1]`, `[1, 1]` et `[1, 2]`, pour écrire 6 tests unitaires simples de cette fonction `f`."
   ]
  },
  {
   "cell_type": "code",
   "execution_count": null,
   "id": "769157d8-cb54-4469-a284-867c7ac5a420",
   "metadata": {},
   "outputs": [],
   "source": [
    "# ENTRER VOTRE CODE A LA PLACE DE CES 2 LIGNES\n",
    "raise NotImplementedError()"
   ]
  },
  {
   "cell_type": "markdown",
   "id": "ace5d039-85e7-4fb1-b769-417f1d2d0780",
   "metadata": {},
   "source": [
    "#### D'autres tests unitaires\n",
    "\n",
    "Compléter les tests suivants sur la liste `l0` suivante."
   ]
  },
  {
   "cell_type": "code",
   "execution_count": null,
   "id": "cc3dfc62-1a0e-4b3b-ad63-978d54d81931",
   "metadata": {},
   "outputs": [],
   "source": [
    "l0 = [i + 2*(i%2) for i in range(0, 10)]\n",
    "print(l0)\n",
    "assert f(l0, len(l0), 0) == .\n",
    "assert f(l0, len(l0), 1) == .\n",
    "assert f(l0, len(l0), .) == 2\n",
    "assert f(l0, len(l0), .) == 5"
   ]
  },
  {
   "cell_type": "markdown",
   "id": "90ac1da0-598d-4065-861f-b2f143da0dfe",
   "metadata": {},
   "source": [
    "### Quoi, encore !\n",
    "\n",
    "Ecrire une fonction récursive de signature identique à celle de `f` qui résout le même problème. "
   ]
  },
  {
   "cell_type": "code",
   "execution_count": null,
   "id": "75a63cea-faab-4f26-867c-ea765416658b",
   "metadata": {},
   "outputs": [],
   "source": [
    "def f(l: list[int], n: int, s: int) -> int:\n",
    "    # ENTRER VOTRE CODE A LA PLACE DE CES 2 LIGNES\n",
    "    raise NotImplementedError()"
   ]
  },
  {
   "cell_type": "markdown",
   "id": "465ae192-f9b1-4d3b-a48e-1582bfeb984c",
   "metadata": {},
   "source": [
    "#### Tests unitaires\n",
    "\n",
    "Vérifier que cette version récursive de `f` vérifie _tous_ les tests unitaires de la version itérative."
   ]
  },
  {
   "cell_type": "code",
   "execution_count": null,
   "id": "a2092894-cfe0-4a23-9b9e-858e9577578e",
   "metadata": {},
   "outputs": [],
   "source": [
    "# ENTRER VOTRE CODE A LA PLACE DE CES 2 LIGNES\n",
    "raise NotImplementedError()"
   ]
  },
  {
   "cell_type": "markdown",
   "id": "a863f005-b918-417e-8a68-70693f902ae1",
   "metadata": {
    "nbgrader": {
     "cell_type": "markdown",
     "checksum": "97ad0299a310997d916beead1d8d9cc1",
     "grade": false,
     "grade_id": "cell-77bd4ad42455b1f4",
     "locked": true,
     "schema_version": 3,
     "solution": false,
     "task": false
    }
   },
   "source": [
    "## Exercice 2. Ordre lexicographique et tri associé\n",
    "\n",
    "**Ordre alphabétique.** \n",
    "Les caractères alphabétiques en minuscule sont naturellement ordonnés selon l'ordre alphabétique.\n",
    "\n",
    "- Ainsi, le caractère 'a' est avant le caractère 'b', lui-même avant le caractère 'c' ...\n",
    "- En python, l'opérateur de comparaison `<` **appliqué à 2 caractères** vérifie cet ordre.\n",
    "- On peut ainsi dire que 'a' est strictement inférieur à 'b', 'b' strictement inférieur à 'c', ... et ce selon l'ordre alphabétique."
   ]
  },
  {
   "cell_type": "code",
   "execution_count": null,
   "id": "32ffce55-6158-4952-96ac-763903cb1911",
   "metadata": {
    "nbgrader": {
     "cell_type": "markdown",
     "checksum": "97ad0299a310997d916beead1d8d9cc1",
     "grade": false,
     "grade_id": "cell-77bd4ad42455b1f4",
     "locked": true,
     "schema_version": 3,
     "solution": false,
     "task": false
    }
   },
   "outputs": [],
   "source": [
    "assert 'a' < 'b' \n",
    "assert 'b' < 'c'\n",
    "assert 'a' < 'c' \n",
    "assert ('c' < 'a') == False"
   ]
  },
  {
   "cell_type": "markdown",
   "id": "d13b620d-4bf6-40b0-8b0f-9afee7ca237e",
   "metadata": {
    "nbgrader": {
     "cell_type": "markdown",
     "checksum": "97ad0299a310997d916beead1d8d9cc1",
     "grade": false,
     "grade_id": "cell-77bd4ad42455b1f4",
     "locked": true,
     "schema_version": 3,
     "solution": false,
     "task": false
    }
   },
   "source": [
    "**Ordre lexicographique.** L'_ordre lexicographique_ est l'ordre dans lequel **les mots du dictionnaire** sont rangés (triés).\n",
    "\n",
    "Dans cet exercice, les mots :\n",
    "- sont composés de caractères alphabétiques en minuscule, \n",
    "- et sont de longueur au moins égale à 2.\n",
    "\n",
    "_Remarques._\n",
    "\n",
    "- La longueur d'un mot est son nombre de caractères. \n",
    "- Le mot de longueur 0 est le mot vide. Il n'est pas considéré dans cet exercice.\n",
    "- Un mot de longueur 1 est un caractère et les caractères sont ordonnés selon l'ordre alphabétique (rappel)."
   ]
  },
  {
   "cell_type": "markdown",
   "id": "7e5297bc-1b2a-428c-845f-d05e6e00fd6d",
   "metadata": {},
   "source": [
    "**Exemple de mots ordonnés selon l'ordre lexicographique.**\n",
    "\n",
    "La liste suivante, utile par la suite, définit 6 mots ordonnés comme dans un dictionnaire.\n",
    "On peut ainsi dire que cette liste de mots **est triée selon l'ordre lexicographique**. \n"
   ]
  },
  {
   "cell_type": "code",
   "execution_count": null,
   "id": "8d108afa-e7c2-4b44-94fa-24a6c300aa37",
   "metadata": {},
   "outputs": [],
   "source": [
    "mots_test = ['bonjour', 'par', 'part', 'partie', 'parts', 'zebre']"
   ]
  },
  {
   "cell_type": "markdown",
   "id": "1cc35d08-da64-47f0-bd3b-7978a840217a",
   "metadata": {},
   "source": [
    "Ainsi pour l'ordre lexicographique : \n",
    "\n",
    "- 'bonjour' est strictement inférieur à 'par',\n",
    "- 'par' est strictement inférieur à 'part',\n",
    "- 'bonjour' est strictement inférieur à 'zebre', ...\n",
    "\n",
    "**Mais attention :** \n",
    "\n",
    "- 'par' **n'est pas** strictement inférieur à 'par', ...\n",
    "\n",
    "**Abus de langage.** \n",
    "\n",
    "Par la suite, on ne répétera pas que la comparaison de deux mots s'effectue selon l'ordre lexicographique. On dira par exemple simplement : 'bonjour' est strictement inférieur à 'par'. \n"
   ]
  },
  {
   "cell_type": "markdown",
   "id": "8196274c-fc5e-4a01-9bb5-669820e6f8f1",
   "metadata": {
    "nbgrader": {
     "cell_type": "markdown",
     "checksum": "97ad0299a310997d916beead1d8d9cc1",
     "grade": false,
     "grade_id": "cell-77bd4ad42455b1f4",
     "locked": true,
     "schema_version": 3,
     "solution": false,
     "task": false
    }
   },
   "source": [
    "**Consignes importante.**\n",
    "\n",
    "- Vous pouvez utiliser l'opérateur de comparaison python `<` **uniquement entre deux caractères**.\n",
    "    - il vérifie l'ordre alphabétique.\n",
    "- En revanche, il est **interdit** d'utiliser l'opérateur python **`<` entre deux chaines de caractères**.\n",
    "    - cet opérateur  \"`<` entre deux chaines de caractères\" vérifie l'ordre lexicographique\n",
    "    - il sera **uniquement** utilisé dans les cellules d'auto-validation.\n",
    " "
   ]
  },
  {
   "cell_type": "markdown",
   "id": "b0998781",
   "metadata": {
    "nbgrader": {
     "cell_type": "markdown",
     "checksum": "97ad0299a310997d916beead1d8d9cc1",
     "grade": false,
     "grade_id": "cell-77bd4ad42455b1f4",
     "locked": true,
     "schema_version": 3,
     "solution": false,
     "task": false
    }
   },
   "source": [
    "### Ordre lexicographique itératif\n",
    "\n",
    "On rappelle qu'un mot est une chaine de caractères minuscules de longueur au moins 2.\n",
    "\n",
    "La fonction `inf_lex_it()` suivante vérifie si le mot `m1` est strictement inférieur à `m2`; `m1` et `m2` étant de longueur respective `n1` et `n2`."
   ]
  },
  {
   "cell_type": "code",
   "execution_count": null,
   "id": "0c541180-2239-4634-9c88-e6fd18495c65",
   "metadata": {},
   "outputs": [],
   "source": [
    "def inf_lex_it(m1: str, n1: int, m2: str, n2: int) -> bool:\n",
    "    '''m1 < m2 : ordre lexicographique, version iterative'''\n",
    "    pass"
   ]
  },
  {
   "cell_type": "markdown",
   "id": "6489dde0-a367-42a5-b898-d1b57b9b9b43",
   "metadata": {},
   "source": [
    "#### Tests unitaires avec `mots_test`.\n",
    "\n",
    "Ecrire les 4 tests unitaires de la fonction `inf_lex_it()` donnés plus haut comme exemples de l'ordre lexicographique sur des mots de `mots_test`."
   ]
  },
  {
   "cell_type": "code",
   "execution_count": null,
   "id": "2c1b17e2-2935-438f-9c63-a67b1f2a6c66",
   "metadata": {},
   "outputs": [],
   "source": [
    "# ENTRER VOTRE CODE A LA PLACE DE CES 2 LIGNES\n",
    "raise NotImplementedError()"
   ]
  },
  {
   "cell_type": "markdown",
   "id": "74c6133b-0394-4b7e-b672-0bd9cd8f3fed",
   "metadata": {},
   "source": [
    "#### `inf_lex_it()`\n",
    "\n",
    "Compléter la signature précédente pour définir la fonction  `inf_lex_it()`."
   ]
  },
  {
   "cell_type": "code",
   "execution_count": null,
   "id": "fe3f66c7",
   "metadata": {},
   "outputs": [],
   "source": [
    "def inf_lex_it(m1: str, n1: int, m2: str, n2: int) -> bool:\n",
    "    # ENTRER VOTRE CODE A LA PLACE DE CES 2 LIGNES\n",
    "    raise NotImplementedError()"
   ]
  },
  {
   "cell_type": "markdown",
   "id": "8a1d67ec",
   "metadata": {},
   "source": [
    "#### Auto-validation"
   ]
  },
  {
   "cell_type": "code",
   "execution_count": null,
   "id": "0ff1fb0c-459b-4ef9-aeee-ce2a81c60701",
   "metadata": {},
   "outputs": [],
   "source": [
    "assert inf_lex_it(\"abc\", 3, \"abd\", 3) == (\"abc\" < \"abd\")\n",
    "assert inf_lex_it(\"bac\", 3, \"bad\", 3) == (\"bac\" < \"bad\")\n",
    "assert inf_lex_it(\"ab\", 2, \"abc\", 3) == (\"ab\" < \"abc\")\n",
    "assert inf_lex_it(\"ab\", 2, \"ab\", 2) == (not(\"ab\" < \"ab\"))"
   ]
  },
  {
   "cell_type": "markdown",
   "id": "a342efea-7e0f-4589-a5b9-460861a49125",
   "metadata": {},
   "source": [
    "#### Votre validation\n",
    "\n",
    "Utiliser les tests unitaires avec `mots_test` pour valider votre fonction."
   ]
  },
  {
   "cell_type": "code",
   "execution_count": null,
   "id": "f1c46d03-0110-40d5-85c6-f99c2ce32fc1",
   "metadata": {},
   "outputs": [],
   "source": [
    "# ENTRER VOTRE CODE A LA PLACE DE CES 2 LIGNES\n",
    "raise NotImplementedError()"
   ]
  },
  {
   "cell_type": "markdown",
   "id": "86a6ae38",
   "metadata": {
    "nbgrader": {
     "cell_type": "markdown",
     "checksum": "97ad0299a310997d916beead1d8d9cc1",
     "grade": false,
     "grade_id": "cell-77bd4ad42455b1f4",
     "locked": true,
     "schema_version": 3,
     "solution": false,
     "task": false
    }
   },
   "source": [
    "### Ordre lexicographique récursif\n",
    "\n",
    "Ecrire la fonction `inf_lex_rec()`, version récursive de la fonction `inf_lex_it()`."
   ]
  },
  {
   "cell_type": "code",
   "execution_count": null,
   "id": "96c0ffed",
   "metadata": {},
   "outputs": [],
   "source": [
    "def inf_lex_rec(m1: str, n1: int, m2: str, n2: int) -> bool:\n",
    "        # ENTRER VOTRE CODE A LA PLACE DE CES 2 LIGNES\n",
    "    raise NotImplementedError()\n"
   ]
  },
  {
   "cell_type": "markdown",
   "id": "a3bd82bc-49dd-4460-9069-7a63b4f803d4",
   "metadata": {},
   "source": [
    "#### Validation\n",
    "\n",
    "Ré-écrire les tests unitaires de la version itérative pour cette version récursive et les appliquer."
   ]
  },
  {
   "cell_type": "code",
   "execution_count": null,
   "id": "fb05e81d-6fb6-482b-b38a-eabda3571946",
   "metadata": {},
   "outputs": [],
   "source": [
    "# ENTRER VOTRE CODE A LA PLACE DE CES 2 LIGNES\n",
    "raise NotImplementedError()"
   ]
  },
  {
   "cell_type": "markdown",
   "id": "ee240bbd-684e-4c83-bb23-1ce63131b9c1",
   "metadata": {},
   "source": [
    "###  Tri de mots selon l'ordre lexicographique\n",
    "\n",
    "On suppose des mots stockés dans une liste -- comme `mots_test` par exemple.\n",
    "\n",
    "#### ($\\star$) `trier_mots()`\n",
    "\n",
    "Ecrire `trier_mots()` en reprennant un des algorithmes de tri vus en cours pour trier un telle liste de mots selon l'ordre lexicographique."
   ]
  },
  {
   "cell_type": "code",
   "execution_count": null,
   "id": "e6a46ece-f58f-47ac-8924-14da9262db6f",
   "metadata": {},
   "outputs": [],
   "source": [
    "def trier_mots(l : list[str], n: int) -> list[str]:\n",
    "    '''retourne la liste l triée selon ordre lexicographique'''\n",
    "    pass"
   ]
  },
  {
   "cell_type": "markdown",
   "id": "b7ee92c8-e8c6-4a94-bbb8-f616c181514c",
   "metadata": {},
   "source": [
    "#### Auto-validation\n",
    "\n",
    "La cellule suivante doit s'exécuter sans erreur."
   ]
  },
  {
   "cell_type": "code",
   "execution_count": null,
   "id": "58f1af78-c6d7-4d94-89ac-f59c2fd7d847",
   "metadata": {},
   "outputs": [],
   "source": [
    "from random import shuffle\n",
    "\n",
    "tmp = mots_test[:]  # duplication\n",
    "shuffle(tmp) # melange en place\n",
    "print(tmp) # pour vous rassurer\n",
    "\n",
    "assert trier_mots(tmp, len(tmp)) == mots_test"
   ]
  },
  {
   "cell_type": "markdown",
   "id": "fee0a64e",
   "metadata": {},
   "source": [
    "## 3. Le jeu OTHELLO ou REVERSI : une version itérative \n",
    "\n",
    "#### Description du jeu\n",
    "Othello (aussi connu sous le nom Reversi) est un jeu de société opposant deux joueurs.\n",
    "\n",
    "Il se joue sur un plateau, appelé _othellier_, de 64 cases (8x8) et avec 64 pions bicolores, noirs d'un côté et blancs de l'autre.\n",
    "En début de partie, quatre pions sont déjà placés au centre de l'othellier comme sur l'affichage ci-dessous (deux noirs en e4 et d5 et deux blancs en d4 et e5).\n",
    "Chaque joueur choisit une couleur : noir ou blanc.\n",
    "Les noirs commencent.\n",
    "Puis chaque joueur pose l'un après l'autre un pion de sa couleur sur l'othellier selon des règles précisées dans le paragraphe suivant. \n",
    "Le jeu s'arrête quand les deux joueurs ne peuvent plus poser de pion.  \n",
    "Le joueur ayant le plus grand nombre de pions de sa couleur sur l'othellier a gagné.\n",
    "\n",
    "#### Règles du jeu\n",
    "- Noir commence toujours la partie. \n",
    "- A tour de rôle, chaque joueur place un pion qui **doit capturer** des pions adverses.\n",
    "- Les joueurs jouent à tour de rôle, chacun étant tenu de capturer des pions adverses lors de son mouvement. \n",
    "- Si un joueur ne peut pas capturer de pion(s) adverse(s), il est forcé de passer son tour.\n",
    "- Si aucun des deux joueurs ne peut jouer, ou si l'othellier ne comporte plus de case vide, la partie s'arrête. \n",
    "- Le gagnant en fin de partie est celui qui possède le plus de pions.\n",
    "\n",
    "**La capture** de pions :\n",
    "- Elle survient lorsqu'un joueur place un de ses pions à l'extrémité d'un alignement de pions adverses contigus dont l'autre extrémité est déjà occupée par un de ses propres pions. \n",
    "- Les alignements peuvent être selon une colonne, une ligne ou une diagonale. \n",
    "- Si le pion nouvellement placé ferme plusieurs alignements, il capture tous les pions adverses de ces alignements.\n",
    "- La capture se traduit par le retournement des pions capturés (qui prennent alors la couleur du joueur). \n",
    "- Ces retournements n'entraînent pas d'effet de capture en cascade : seul le pion nouvellement posé est pris en compte.\n",
    "\n",
    "\n",
    "Numérotation de la grille :\n",
    "- les colonnes sont numérotées de gauche à droite par les lettres a à h,\n",
    "- les lignes sont numérotées de haut en bas par les chiffres 1 à 8. \n",
    "\n",
    "La première figure ci-dessous montre la position de départ où `X` représente un pion noir, `O` un pion blanc et `.` une case vide.\n",
    "\t\n",
    "Grille initiale :\n",
    "```\n",
    "    ========================\n",
    "     a  b  c  d  e  f  g  h  \n",
    "    ========================\n",
    "1 |  .  .  .  .  .  .  .  . \n",
    "2 |  .  .  .  .  .  .  .  . \n",
    "3 |  .  .  .  .  .  .  .  . \n",
    "4 |  .  .  .  O  X  .  .  . \n",
    "5 |  .  .  .  X  O  .  .  . \n",
    "6 |  .  .  .  .  .  .  .  . \n",
    "7 |  .  .  .  .  .  .  .  . \n",
    "8 |  .  .  .  .  .  .  .  . \n",
    "    ========================\n",
    "    Noirs:  2  Blancs:  2\n",
    "```\n",
    "\n",
    "La deuxième figure montre les 4 cases `?` où Noir peut jouer grâce à la capture d'un pion Blanc. \n",
    "\n",
    "```\n",
    "    ========================\n",
    "     a  b  c  d  e  f  g  h  \n",
    "    ========================\n",
    "1 |  .  .  .  .  .  .  .  . \n",
    "2 |  .  .  .  .  .  .  .  . \n",
    "3 |  .  .  .  ?  .  .  .  . \n",
    "4 |  .  .  ?  O  X  .  .  . \n",
    "5 |  .  .  .  X  O  ?  .  . \n",
    "6 |  .  .  .  .  ?  .  .  . \n",
    "7 |  .  .  .  .  .  .  .  . \n",
    "8 |  .  .  .  .  .  .  .  . \n",
    "    ========================\n",
    "    Noirs:  2  Blancs:  2\n",
    "```\n",
    "\n",
    "Noir joue en d3.\n",
    "La figure suivante montre :\n",
    "- le plateau après la capture du pion Blanc d4 (pion retourné devenant ainsi un pion Noir).\n",
    "- les cases `?` où Blanc peut ensuite jouer.\n",
    "\n",
    "```\n",
    "    ========================\n",
    "     a  b  c  d  e  f  g  h  \n",
    "    ========================\n",
    "1 |  .  .  .  .  .  .  .  . \n",
    "2 |  .  .  .  .  .  .  .  . \n",
    "3 |  .  .  ?  X  ?  .  .  . \n",
    "4 |  .  .  .  X  X  .  .  . \n",
    "5 |  .  .  ?  X  O  .  .  . \n",
    "6 |  .  .  .  .  .  .  .  . \n",
    "7 |  .  .  .  .  .  .  .  . \n",
    "8 |  .  .  .  .  .  .  .  . \n",
    "    ========================\n",
    "    Noirs:  4  Blancs:  1\n",
    "Joueur 2 :  \n",
    "```\n",
    "\n"
   ]
  },
  {
   "cell_type": "markdown",
   "id": "040c84e5",
   "metadata": {},
   "source": [
    "### Modélisation du jeu\n",
    "On modèlisera le joueur au pion noir par l'entier 1 et le joueur au pion blanc pour l'entier 2.\n",
    "\n",
    "Le plateau de jeu sera modélisé par un tableau en 2 dimensions d'entiers (```list[list[int]]```).\n",
    "Où chaque case pourra prendre les valeurs suivantes :\n",
    "   \n",
    "   - 0 pour une case vide,\n",
    "\n",
    "   - 1 pour une case avec un pion noir,\n",
    "   \n",
    "   - 2 pour une case avec un pion blanc.\n",
    "    \n",
    "    \n"
   ]
  },
  {
   "cell_type": "markdown",
   "id": "a1058eb5",
   "metadata": {},
   "source": [
    "### Modélisation de la validation d'une position de jeu pour un joueur\n",
    "Lorsque un joueur entrera les coordonnées d'une case dans laquelle il souhaite placer un pion, il faudra procéder à la vérification de la case : cette case devra existée, être vide et il devra y avoir au moins un alignement non discontinue de pions du joueur adverse entre cette case et une case du plateau appartenant au même joueur se situant dans une des huits directions (nord, nord-est, est, sud-est, sud, sud-ouest, ouest, nord, ouest).\n",
    "\n",
    "Les 8 directions peuvent être modélisées par les vecteurs suivants :\n",
    "    \n",
    "    - nord       : [-1,  0],\n",
    "    - nord-est   : [-1, +1],\n",
    "    - est        : [ 0, +1],\n",
    "    - sud-est    : [+1, +1],\n",
    "    - sud        : [+1,  0],\n",
    "    - sud-ouest  : [+1, -1],\n",
    "    - ouest      : [ 0, -1],\n",
    "    - nord-ouest : [-1, -1].\n",
    "\n",
    "Nous pouvons donc construire la liste des vecteurs de directions :\n",
    "\n",
    "    - [ [-1,  0], [-1, +1], [ 0, +1], [+1, +1], [+1,  0], [+1, -1], [ 0, -1], [-1, -1] ]\n",
    "  \n",
    "Lorsqu'un joueur souhaite placer un pion aux coordonnées (```l```,```c```), nous utiliserons cette liste afin de parcourir les 8 directions.\n",
    "Pour chaque direction ```dv```, nous rechercherons un alignement de pions adverses consécutifs compris entre deux pions du joueur au coordonnées (```l```,```c```) et (```l+k*dv[0]```,```c+k*dv[1]```) avec ```k > 1```.\n"
   ]
  },
  {
   "cell_type": "markdown",
   "id": "f7175087",
   "metadata": {},
   "source": [
    "### Cases voisines\n",
    "Ecrire une fonction  `couleur_voisin()` qui prend en paramètre une grille `g` de taille `n`x`n`, `n` un entier, des coordonnées valides (`l`,`c`), un vecteur de direction `dv` et une couleur `couleur`. \n",
    "La fonction vérifie si la case voisine dans la direction `dv` existe et si celle-ci est bien de la couleur `couleur`."
   ]
  },
  {
   "cell_type": "code",
   "execution_count": null,
   "id": "33004f45",
   "metadata": {},
   "outputs": [],
   "source": [
    "def couleur_voisin(g: list[list[int]], n: int, l: int, c:int, dv: list[int], couleur: int) -> bool:\n",
    "    # ENTRER VOTRE CODE A LA PLACE DE CES 2 LIGNES\n",
    "    raise NotImplementedError()\n"
   ]
  },
  {
   "cell_type": "markdown",
   "id": "162f284f",
   "metadata": {},
   "source": [
    "### Auto-validation"
   ]
  },
  {
   "cell_type": "code",
   "execution_count": null,
   "id": "acceb2ff",
   "metadata": {},
   "outputs": [],
   "source": [
    "gtest = [\n",
    "    [0, 0, 0, 0 ,0, 0, 0, 0],\n",
    "    [0, 0, 0, 0 ,0, 0, 0, 0],\n",
    "    [0, 0, 0, 0 ,0, 0, 0, 0],\n",
    "    [0, 0, 0, 2 ,1, 0, 0, 0],\n",
    "    [0, 0, 0, 1 ,2, 0, 0, 0],\n",
    "    [0, 0, 0, 0 ,0, 0, 0, 0],\n",
    "    [0, 0, 0, 0 ,0, 0, 0, 0],\n",
    "    [0, 0, 0, 0 ,0, 0, 0, 0],   \n",
    "]\n",
    "\n",
    "assert couleur_voisin(gtest, 8, 3, 3, [1,0], 1)==True\n",
    "assert couleur_voisin(gtest, 8, 3, 3, [1,0], 2)==False\n",
    "assert couleur_voisin(gtest, 8, 3, 3, [0,1], 1)==True\n",
    "assert couleur_voisin(gtest, 8, 3, 3, [1,1], 2)==True"
   ]
  },
  {
   "cell_type": "markdown",
   "id": "11f03a11",
   "metadata": {},
   "source": [
    "### Affichage simple\n",
    "Ecrire une fonction simple `afficher_grille(g: list[list[int]])` qui prend en paramètre une grille `g` de taille `n` et l'affiche avec des `.` pour les cases vides, des `X` pour les pions noirs et des `O` pour les pions blancs.\n",
    "\n",
    "```\n",
    " .  .  .  .  .  .  .  . \n",
    " .  .  .  .  .  .  .  . \n",
    " .  .  .  .  .  .  .  . \n",
    " .  .  .  O  X  .  .  . \n",
    " .  .  .  X  O  .  .  . \n",
    " .  .  .  .  .  .  .  . \n",
    " .  .  .  .  .  .  .  . \n",
    " .  .  .  .  .  .  .  . \n",
    "```\n"
   ]
  },
  {
   "cell_type": "code",
   "execution_count": null,
   "id": "6e65aa32",
   "metadata": {},
   "outputs": [],
   "source": [
    "def afficher_grille(g: list[list[int]], n: int) -> None:\n",
    "    '''Affiche la grille \"g\" avec des \".\" des \"X\" et  des \"O\"'''\n",
    "    # ENTRER VOTRE CODE A LA PLACE DE CES 2 LIGNES\n",
    "    raise NotImplementedError()\n",
    "    "
   ]
  },
  {
   "cell_type": "markdown",
   "id": "f21d41c2",
   "metadata": {},
   "source": [
    "### Compter des pions\n",
    "Un joueur veut placer un pion de couleur `c` sur la case (`lig , col`) **supposée vide**.\n",
    "\n",
    "La fonction `nb_pion_dir()` :\n",
    "\n",
    "1. vérifie, dans la direction `dv`, si il existe un alignement de pions adverses consécutifs qui se termine par un pion de couleur `c`,\n",
    "2. renvoie le nombre de pions adverses consécutifs alignés,\n",
    "3. ou renvoie -1 si un tel alignement n'existe pas.\n",
    "\n",
    "\n",
    "Ainsi, le joueur vérifie avec `nb_pion_dir()` si il existe au moins un alignement de pions adverses dans une des 8 directions pour placer un pion de couleur `c` sur la case (`lig , col`).\n",
    "\n",
    "\n",
    "Écrire le corps de la fonction `nb_pion_dir(g: list[list[int]], n : int, lig: int, col:int, dv: list[int], player: int) -> int`\n"
   ]
  },
  {
   "cell_type": "code",
   "execution_count": null,
   "id": "ab8e6f97",
   "metadata": {},
   "outputs": [],
   "source": [
    "def nb_pion_dir(g: list[list[int]], n: int, lig: int, col:int, dv: list[int], couleur: int) -> int:\n",
    "    '''Fonction qui vérifie si il existe un alignement de pions adverse dans la direction dvec à partir de lig, col inclus.\n",
    "        Retourne le nombre de pions adverses ou -1 s'il n'y a pas d'alignement.'''\n",
    "    # ENTRER VOTRE CODE A LA PLACE DE CES 2 LIGNES\n",
    "    raise NotImplementedError()\n"
   ]
  },
  {
   "cell_type": "markdown",
   "id": "fe29a6fb",
   "metadata": {},
   "source": [
    "### Auto-validation"
   ]
  },
  {
   "cell_type": "code",
   "execution_count": null,
   "id": "1c48f14c",
   "metadata": {},
   "outputs": [],
   "source": [
    "gtest = [\n",
    "    [0, 0, 0, 0 ,0, 0, 0, 0],\n",
    "    [0, 0, 0, 0 ,0, 0, 0, 0],\n",
    "    [0, 0, 0, 0 ,0, 0, 0, 0],\n",
    "    [0, 0, 0, 2 ,1, 0, 0, 0],\n",
    "    [0, 0, 0, 1 ,2, 0, 0, 0],\n",
    "    [0, 0, 0, 0 ,0, 0, 0, 0],\n",
    "    [0, 0, 0, 0 ,0, 0, 0, 0],\n",
    "    [0, 0, 0, 0 ,0, 0, 0, 0],   \n",
    "]\n",
    "\n",
    "d = [1,0]\n",
    "assert nb_pion_dir(gtest, 8, 2, 3, d, 1)==1\n",
    "d = [0,1]\n",
    "assert nb_pion_dir(gtest, 8, 3, 2, d, 1)==1\n",
    "\n",
    "d = [1,0]\n",
    "assert nb_pion_dir(gtest, 8, 2, 4, d, 2)==1\n",
    "d = [-1,0]\n",
    "assert nb_pion_dir(gtest, 8, 5, 3, d, 2)==1\n",
    "\n",
    "d = [1,0]\n",
    "assert nb_pion_dir(gtest, 8, 2, 3, d, 2)==0\n",
    "d = [0,1]\n",
    "assert nb_pion_dir(gtest, 8, 3, 2, d, 2)==0\n",
    "\n",
    "d = [1,0]\n",
    "assert nb_pion_dir(gtest, 8, 2, 4, d, 1)==0\n",
    "d = [-1,0]\n",
    "assert nb_pion_dir(gtest, 8, 5, 3, d, 1)==0\n",
    "\n",
    "d = [1,0]\n",
    "assert nb_pion_dir(gtest, 8, 0, 0, d, 1)==-1\n",
    "d = [-1,0]\n",
    "assert nb_pion_dir(gtest, 8, 7, 7, d, 1)==-1\n"
   ]
  },
  {
   "cell_type": "markdown",
   "id": "21c4e2dd",
   "metadata": {},
   "source": [
    "### Valider une position\n",
    "Ecrire la fonction `pos_valide(g: list[list[int]], lig: int, col:int, couleur: int) -> int:` qui vérifie si les coordonnées (`lig`, `col`) sont valides pour le joueur `couleur` c'est à dire s'il existe un alignement de pions adverses encadré à partir de ces coordonnées dans une des 8 directions possibles. "
   ]
  },
  {
   "cell_type": "code",
   "execution_count": null,
   "id": "8c11a9da",
   "metadata": {},
   "outputs": [],
   "source": [
    "def pos_valide(g: list[list[int]], n: int, lig: int, col: int, couleur: int) -> bool:\n",
    "    '''Fonction qui vérifie s'il existe un alignement consécutif de pions adverses au joueur \"couleur\"\n",
    "        dans les 8 directions dans la grille g à partir des (lig,col) et retourne True si il existe au moins un alignement''' \n",
    "    # ENTRER VOTRE CODE A LA PLACE DE CES 2 LIGNES\n",
    "    raise NotImplementedError()\n"
   ]
  },
  {
   "cell_type": "markdown",
   "id": "3862eca3",
   "metadata": {},
   "source": [
    "### Auto-validation"
   ]
  },
  {
   "cell_type": "code",
   "execution_count": null,
   "id": "7a1505e8",
   "metadata": {},
   "outputs": [],
   "source": [
    "gtest = [\n",
    "    [0, 0, 0, 0 ,0, 0, 0, 0],\n",
    "    [0, 0, 0, 0 ,0, 0, 0, 0],\n",
    "    [0, 0, 0, 0 ,0, 0, 0, 0],\n",
    "    [0, 0, 0, 2 ,1, 0, 0, 0],\n",
    "    [0, 0, 0, 1 ,2, 0, 0, 0],\n",
    "    [0, 0, 0, 0 ,0, 0, 0, 0],\n",
    "    [0, 0, 0, 0 ,0, 0, 0, 0],\n",
    "    [0, 0, 0, 0 ,0, 0, 0, 0],   \n",
    "]\n",
    "\n",
    "assert pos_valide(gtest, 8, 2, 3, 1)==True\n",
    "assert pos_valide(gtest, 8, 3, 2, 1)==True\n",
    "\n",
    "assert pos_valide(gtest, 8, 2, 4, 2)==True\n",
    "assert pos_valide(gtest, 8, 5, 3, 2)==True\n",
    "\n",
    "assert pos_valide(gtest, 8, 2, 3, 2)==False\n",
    "assert pos_valide(gtest, 8, 3, 2, 2)==False\n",
    "\n",
    "assert pos_valide(gtest, 8, 2, 4, 1)==False\n",
    "assert pos_valide(gtest, 8, 5, 3, 1)==False\n",
    "\n",
    "assert pos_valide(gtest, 8, 0, 0, 1)==False\n",
    "assert pos_valide(gtest, 8, 7, 7, 1)==False\n"
   ]
  },
  {
   "cell_type": "markdown",
   "id": "264502ff",
   "metadata": {},
   "source": [
    "Écrire une fonction `nb_pos_valide(g: list[list[int]], n: int, couleur: int) -> int:` qui retourne le nombre de positions valides dans la grille ```g``` de taille `n`x`n` pour le joueur `couleur`"
   ]
  },
  {
   "cell_type": "code",
   "execution_count": null,
   "id": "0dfb9c0c",
   "metadata": {},
   "outputs": [],
   "source": [
    "def nb_pos_valide(g: list[list[int]], n: int, couleur: int) -> int:\n",
    "    '''Fonction qui compte et retourne le nombre de positions valides dans la grille \"g\" pour le joueur \"couleur\"'''\n",
    "    # ENTRER VOTRE CODE A LA PLACE DE CES 2 LIGNES\n",
    "    raise NotImplementedError()\n"
   ]
  },
  {
   "cell_type": "markdown",
   "id": "34df1739",
   "metadata": {},
   "source": [
    "### Auto-validation"
   ]
  },
  {
   "cell_type": "code",
   "execution_count": null,
   "id": "7b1d0216",
   "metadata": {},
   "outputs": [],
   "source": [
    "gtest = [\n",
    "    [0, 0, 0, 0 ,0, 0, 0, 0],\n",
    "    [0, 0, 0, 0 ,0, 0, 0, 0],\n",
    "    [0, 0, 0, 0 ,0, 0, 0, 0],\n",
    "    [0, 0, 0, 2 ,1, 0, 0, 0],\n",
    "    [0, 0, 0, 1 ,2, 0, 0, 0],\n",
    "    [0, 0, 0, 0 ,0, 0, 0, 0],\n",
    "    [0, 0, 0, 0 ,0, 0, 0, 0],\n",
    "    [0, 0, 0, 0 ,0, 0, 0, 0],   \n",
    "]\n",
    "\n",
    "\n",
    "assert(nb_pos_valide(gtest, 8, 1)==4)\n",
    "assert(nb_pos_valide(gtest, 8, 2)==4)"
   ]
  },
  {
   "cell_type": "markdown",
   "id": "c7075bc0",
   "metadata": {},
   "source": [
    "### 3.3 Afficher une grille un petit peu plus \"smart\"\n",
    "Ecrire une fonction `afficher_pos_grille` qui prends en paramètre une grille `g` de type `list[list[int]]`, un numéro de joueur `couleur` de type `int` et affiche la grille `g` sous la forme suivante où les `X` représentent les pions noirs, les ```O``` les pions blanc et les `?` indiquent les possibilités de jeu du joueur `couleur` comme le montre l'affichage suivant :\n",
    "\n",
    "\n",
    "```\n",
    "    ========================\n",
    "     a  b  c  d  e  f  g  h  \n",
    "    ========================\n",
    "1 |  .  .  .  .  .  .  .  . \n",
    "2 |  .  .  .  .  .  .  .  . \n",
    "3 |  .  .  .  ?  .  .  .  . \n",
    "4 |  .  .  ?  O  X  .  .  . \n",
    "5 |  .  .  .  X  O  ?  .  . \n",
    "6 |  .  .  .  .  ?  .  .  . \n",
    "7 |  .  .  .  .  .  .  .  . \n",
    "8 |  .  .  .  .  .  .  .  . \n",
    "    ========================\n",
    "    Noirs:  2  Blancs:  2\n",
    "```\n",
    "\n",
    "\n"
   ]
  },
  {
   "cell_type": "code",
   "execution_count": null,
   "id": "f5077572",
   "metadata": {},
   "outputs": [],
   "source": [
    "def afficher_pos_grille(g: list[list[int]], n: int, couleur: int) -> None:\n",
    "    '''Fonction qui affiche la grille \"g\" avec les positions valides pour le joueur \"player\" '''\n",
    "    # ENTRER VOTRE CODE A LA PLACE DE CES 2 LIGNES\n",
    "    raise NotImplementedError()\n"
   ]
  },
  {
   "cell_type": "markdown",
   "id": "b9a02225",
   "metadata": {},
   "source": [
    "### Auto-validation"
   ]
  },
  {
   "cell_type": "code",
   "execution_count": null,
   "id": "cb4e72ab",
   "metadata": {},
   "outputs": [],
   "source": [
    "# TEST DE LA FONCTION afficher_pos_grille(...)\n",
    "gtest = [\n",
    "    [0, 0, 0, 0 ,0, 0, 0, 0],\n",
    "    [0, 0, 0, 0 ,0, 0, 0, 0],\n",
    "    [0, 0, 0, 0 ,0, 0, 0, 0],\n",
    "    [0, 0, 0, 2 ,1, 0, 0, 0],\n",
    "    [0, 0, 0, 1 ,2, 0, 0, 0],\n",
    "    [0, 0, 0, 0 ,0, 0, 0, 0],\n",
    "    [0, 0, 0, 0 ,0, 0, 0, 0],\n",
    "    [0, 0, 0, 0 ,0, 0, 0, 0],   \n",
    "]\n",
    "\n",
    "afficher_pos_grille(gtest, 8, 1)\n",
    "afficher_pos_grille(gtest, 8, 2)\n"
   ]
  },
  {
   "cell_type": "markdown",
   "id": "17ddf842",
   "metadata": {},
   "source": [
    "### 3.4 Placer les pions\n",
    "Écrire la fonction `capturer(g: list[list[int]], n: int, lig: int, col: int, couleur: int) -> bool:` qui prend en paramètre une grille ```g``` de taille `n`x`n`, les coordonnées ```lig, col```, le numéro du joueur `couleur`.\n",
    "\n",
    "On suppose que les coordonnées (`lig,col`) sont valides.\n",
    "La fonction modifie la grille en capturant et retournant tous les jetons du joueur adverse dans les directions \"valides\" parmis les 8 possibles.\n",
    "\n",
    "La fonction renvoie le nombre total de pions capturés."
   ]
  },
  {
   "cell_type": "code",
   "execution_count": null,
   "id": "22f969e9",
   "metadata": {},
   "outputs": [],
   "source": [
    "def capturer(g: list[list[int]], n: int, lig: int, col: int, couleur: int) -> int:\n",
    "    '''Fonction qui joue eventuellement un pion du joueur \"couleur\" dans la grille \"g\" aux coordonnées (lig,col)\n",
    "        Retourne True si le pion à pu être joué.'''\n",
    "    # ENTRER VOTRE CODE A LA PLACE DE CES 2 LIGNES\n",
    "    raise NotImplementedError()\n"
   ]
  },
  {
   "cell_type": "markdown",
   "id": "671d5419",
   "metadata": {},
   "source": [
    "### Auto-validation"
   ]
  },
  {
   "cell_type": "code",
   "execution_count": null,
   "id": "98e559c2",
   "metadata": {},
   "outputs": [],
   "source": [
    "gtest0 = [\n",
    "    [0, 0, 0, 0 ,0, 0, 0, 0],\n",
    "    [0, 0, 0, 0 ,0, 0, 0, 0],\n",
    "    [0, 0, 0, 0 ,0, 0, 0, 0],\n",
    "    [0, 0, 0, 2 ,1, 0, 0, 0],\n",
    "    [0, 0, 0, 1 ,2, 0, 0, 0],\n",
    "    [0, 0, 0, 0 ,0, 0, 0, 0],\n",
    "    [0, 0, 0, 0 ,0, 0, 0, 0],\n",
    "    [0, 0, 0, 0 ,0, 0, 0, 0],   \n",
    "]\n",
    "gtest1 = [\n",
    "    [0, 0, 0, 0 ,0, 0, 0, 0],\n",
    "    [0, 0, 0, 0 ,0, 0, 0, 0],\n",
    "    [0, 0, 0, 0 ,0, 0, 0, 0],\n",
    "    [0, 0, 0, 2 ,1, 0, 0, 0],\n",
    "    [0, 0, 0, 1 ,2, 0, 0, 0],\n",
    "    [0, 0, 0, 0 ,0, 0, 0, 0],\n",
    "    [0, 0, 0, 0 ,0, 0, 0, 0],\n",
    "    [0, 0, 0, 0 ,0, 0, 0, 0],   \n",
    "]\n",
    "\n",
    "assert capturer(gtest0, 8, 0, 0, 1)==False\n",
    "assert capturer(gtest0, 8, 2, 3, 1)==True\n",
    "\n",
    "assert capturer(gtest1, 8, 0, 0, 2)==False\n",
    "assert capturer(gtest1, 8, 2, 3, 2)==False\n"
   ]
  },
  {
   "cell_type": "markdown",
   "id": "d4690d62",
   "metadata": {},
   "source": [
    "### 3.5 Programme principal : le jeu et auto validation\n",
    "Écrire le programme principal qui va permettre de jouer à deux joueurs à tour de rôle à jeu Othello en utilisant les fonctions précédement définies."
   ]
  },
  {
   "cell_type": "code",
   "execution_count": null,
   "id": "c1a5e3e0",
   "metadata": {},
   "outputs": [],
   "source": [
    "# PROGRAMME PRINCIPAL\n",
    "\n",
    "# ENTRER VOTRE CODE A LA PLACE DE CES 2 LIGNES\n",
    "raise NotImplementedError()\n"
   ]
  },
  {
   "cell_type": "markdown",
   "id": "b76a67e3",
   "metadata": {},
   "source": [
    "## 4. * Bonus *\n",
    "### 4.1 *** Compter d'une autre façon\n",
    "Si vous avez écrit la fonction `nb_pion_dir(...)` de manière itérative réécrivez-la de manière récursive dans le cas contraire réécrivez-la de manière itérative."
   ]
  },
  {
   "cell_type": "code",
   "execution_count": null,
   "id": "d63cb714",
   "metadata": {},
   "outputs": [],
   "source": [
    "def nb_pion_dir2(g: list[list[int]], l: int, c:int, dv: list[int], couleur: int) -> int:\n",
    "    '''Fonction qui vérifie si il existe un alignement de pions adverse dans la direction dv à partir de lig, col inclus.\n",
    "        Retourne le nombre de pions adverses ou -1 s'il n'y a pas d'alignement.'''\n",
    "    # ENTRER VOTRE CODE A LA PLACE DE CES 2 LIGNES\n",
    "    raise NotImplementedError()\n"
   ]
  },
  {
   "cell_type": "markdown",
   "id": "ca792791",
   "metadata": {},
   "source": [
    "### Auto-validation"
   ]
  },
  {
   "cell_type": "code",
   "execution_count": null,
   "id": "760bd477",
   "metadata": {},
   "outputs": [],
   "source": [
    "gtest = [\n",
    "    [0, 0, 0, 0 ,0, 0, 0, 0],\n",
    "    [0, 0, 0, 0 ,0, 0, 0, 0],\n",
    "    [0, 0, 0, 0 ,0, 0, 0, 0],\n",
    "    [0, 0, 0, 2 ,1, 0, 0, 0],\n",
    "    [0, 0, 0, 1 ,2, 0, 0, 0],\n",
    "    [0, 0, 0, 0 ,0, 0, 0, 0],\n",
    "    [0, 0, 0, 0 ,0, 0, 0, 0],\n",
    "    [0, 0, 0, 0 ,0, 0, 0, 0],   \n",
    "]\n",
    "\n",
    "d = [1,0]\n",
    "assert nb_pion_dir2(gtest, 8, 2, 3, d, 1)==1\n",
    "d = [0,1]\n",
    "assert nb_pion_dir2(gtest, 8, 3, 2, d, 1)==1\n",
    "\n",
    "d = [1,0]\n",
    "assert nb_pion_dir2(gtest, 8, 2, 4, d, 2)==1\n",
    "d = [-1,0]\n",
    "assert nb_pion_dir2(gtest, 8, 5, 3, d, 2)==1\n",
    "\n",
    "d = [1,0]\n",
    "assert nb_pion_dir2(gtest, 8, 2, 3, d, 2)==0\n",
    "d = [0,1]\n",
    "assert nb_pion_dir2(gtest, 8, 3, 2, d, 2)==0\n",
    "\n",
    "d = [1,0]\n",
    "assert nb_pion_dir2(gtest, 8, 2, 4, d, 1)==0\n",
    "d = [-1,0]\n",
    "assert nb_pion_dir2(gtest, 8, 5, 3, d, 1)==0\n",
    "\n",
    "d = [1,0]\n",
    "assert nb_pion_dir2(gtest, 8, 0, 0, d, 1)==-1\n",
    "d = [-1,0]\n",
    "assert nb_pion_dir2(gtest, 8, 7, 7, d, 1)==-1\n"
   ]
  },
  {
   "cell_type": "code",
   "execution_count": null,
   "id": "c56b9fd0",
   "metadata": {},
   "outputs": [],
   "source": []
  }
 ],
 "metadata": {
  "kernelspec": {
   "display_name": "Python 3 (ipykernel)",
   "language": "python",
   "name": "python3"
  },
  "language_info": {
   "codemirror_mode": {
    "name": "ipython",
    "version": 3
   },
   "file_extension": ".py",
   "mimetype": "text/x-python",
   "name": "python",
   "nbconvert_exporter": "python",
   "pygments_lexer": "ipython3",
   "version": "3.11.5"
  },
  "toc": {
   "base_numbering": 1,
   "nav_menu": {},
   "number_sections": true,
   "sideBar": true,
   "skip_h1_title": false,
   "title_cell": "Table des matières",
   "title_sidebar": "Contents",
   "toc_cell": false,
   "toc_position": {},
   "toc_section_display": true,
   "toc_window_display": false
  }
 },
 "nbformat": 4,
 "nbformat_minor": 5
}
