{
 "cells": [
  {
   "cell_type": "markdown",
   "id": "05680cef-6c79-40ee-a55f-9dd4d005cbc0",
   "metadata": {},
   "source": [
    "(td:td1)=\n",
    "# Feuille 1 : fonctions\n",
    "\n",
    "**Rappels**\n",
    "\n",
    "- Le symbole $\\blacksquare$ indique les exercices ou questions obligatoires. Commencez par ceux-là.\n",
    "- Les symboles $\\star$ et $\\star\\star$ indiquent les exercices ou questions de difficulté relative plus importante.\n",
    "\n",
    "**Focus**\n",
    "\n",
    "- Fonctions\n",
    "\n",
    "**Compétences**\n",
    "\n",
    "- utiliser une fonction prédéfinie ou existante\n",
    "- définir et écrire la spécification d'une fonction qui réalise un traitement décrit en français, ou qui résout un problème (simple) décrit en français  \n",
    "- définir et écrire des appels simples (ou des tests unitaires) \n",
    "- définir, écrire et utiliser des tests unitaires \n",
    "- définir et écrire l'implémentation d'une fonction associée à une spécification "
   ]
  },
  {
   "cell_type": "markdown",
   "id": "242896f2-07d8-4dbd-b2d6-0e041afab40a",
   "metadata": {},
   "source": [
    "**Rappel de quelques consignes**\n",
    "\n",
    "Dans _cet ordre_ et avec les corrections entre 2 étapes si besoin :\n",
    "\n",
    "1. écriture de la signature de la fonction _docstring_ compris\n",
    "3. écriture d'au moins un appel simple ou un test unitaire\n",
    "4. écriture du corps\n",
    "5. écriture des tests unitaires\n",
    "6. exécution des tests unitaires\n",
    "7. écriture des appels voulus  \n",
    "8. exécution des appels voulus\n",
    "\n",
    "\n",
    "_Se souvenir_ :\n",
    "\n",
    "- Séparer les entrées-sorties des traitements !    \n",
    "- Réduire au minimum l'utilisation des `input()` (les entrées au clavier) et des `print()` (les sorties à l'écran).  \n",
    "- Utiliser des identifiants différents pour les paramètres formels et effectifs, respectivement dans la définition et les appels."
   ]
  },
  {
   "cell_type": "markdown",
   "id": "db5174c5",
   "metadata": {},
   "source": [
    "## Objectif 10"
   ]
  },
  {
   "cell_type": "markdown",
   "id": "929dd824-442e-46ed-ac02-df8afeee665d",
   "metadata": {
    "jp-MarkdownHeadingCollapsed": true
   },
   "source": [
    "(exo:fact)=\n",
    "### Exercice. (factorielle)\n",
    "\n",
    "La valeur de factorielle (de) $n$, où $n$ est un entier positif, est :\n",
    "$n ! = 1 \\times 2 \\times \\cdots \\ \\times (n-1) \\times n$. On choisit\n",
    "$0 ! = 1$.\n",
    "\n",
    "2.  $\\blacksquare$ Écrire la fonction `factorielle()` qui calcule et retourne $n!$.\n",
    "3.  La fonction `factorial()` du module `math` effectue le même calcul. Utiliser cette fonction pour définir et coder des tests unitaires de votre fonction `factorielle()`.\n",
    "4.  Utiliser la fonction `factorielle()` pour écrire des fonctions qui\n",
    "    calculent les quantités suivantes.\n",
    "\n",
    "    1.  Le nombre d'arrangements (listes ordonnées) de $k$ valeurs\n",
    "        prises dans un ensemble de $n$ valeurs est :\n",
    "        $\\mathcal{A}_n^k = {n\n",
    "                  !}/{(n-k)!}, (k \\le n)$.\n",
    "    2.  Le nombre de combinaisons (listes non ordonnées) de $k$ valeurs\n",
    "        prises dans un ensemble de $n$ valeurs est :\n",
    "        $\\left(_k^n\\right) =\n",
    "                {\\mathcal{A}_n^k}/{k!}$, $(k \\le n)$."
   ]
  },
  {
   "cell_type": "markdown",
   "id": "a5d0cbee-88bb-43c1-ada6-193337850b0d",
   "metadata": {},
   "source": [
    "### $\\blacksquare$ Exercice \n",
    "\n",
    "Écrire une fonction `moy()` qui calcule et retourne la moyenne de 4 valeurs flottantes de façon adaptée au traitement suivant souhaité. \n",
    "\n",
    "- Ces 4 valeurs sont entrées au clavier et stockées dans un tableau. \n",
    "- La moyenne calculée est affichée à l'écran avec un rappel des 4 valeurs correspondantes.\n",
    "\n",
    "Accompagner votre développement avec quelques tests unitaires bien choisis."
   ]
  },
  {
   "cell_type": "markdown",
   "id": "1d12acd1-690e-43a0-8c5f-510c11ec286e",
   "metadata": {},
   "source": [
    "### Exercice (codage ASCII) \n",
    "\n",
    "L'ASCII est un codage de caractères qui\n",
    "définit 128 codes sur 7 bits. Chaque code correspond à un caractère :\n",
    "chiffres, lettres, symboles mathématiques et de ponctuation. \n",
    "\n",
    "En Python,\n",
    "la fonction `ord()` retourne le code ASCII d'un caractère fourni en\n",
    "argument. La fonction `chr()` retourne le caractère associé à un code\n",
    "donné.\n",
    "\n",
    "1. Ecrire un programme qui affiche les 128 codes ASCII selon 16 lignes de 8 colonnes.\n",
    "\n",
    "**Remarque.** Etre conscient que cette question nécessite de mélanger des traitements (appels de fonctions) et des entrées-sorties (`print()`).\n",
    "\n",
    "2. Ecrire une autre solution qui ne mélange pas traitements et entrées-sorties."
   ]
  },
  {
   "cell_type": "markdown",
   "id": "8de0dabf",
   "metadata": {},
   "source": [
    "(exo:suites)= \n",
    "### $\\blacksquare$ Exercice \n",
    "\n",
    "On rappelle quelques suites et séries numériques classiques.\n",
    "\n",
    "-   La somme des $n$ premiers entiers :\n",
    "    $s_1(n) = 1 + 2 + \\cdots + (n-1) + n = \\sum_{k=1}^{n} k$ ;\n",
    "\n",
    "-   La suite de Fibonacci : $u_{n+1} = u_{n}+ u_{n-1}$ et $u_0=u_1=1$.\n",
    "\n",
    "-   Une suite arithmético-géométrique : $u_{n+1} = u_n/3 + 2$ avec $u_0=1$.\n",
    "\n",
    "1. Écrire des fonctions (en-tête, appel, corps) qui calculent et\n",
    "    retournent le $n$-ième terme de ces suites. \n",
    "2. Ecrire des tests unitaires adaptés. Justifier vos choix.\n",
    "3.  Pour chacune de ces suites et en utilisant ces fonctions, lire une valeur de $n$ entrée au clavier, calcule le $n$-ième terme de la suite puis l'afficher à l'écran.\n"
   ]
  },
  {
   "cell_type": "markdown",
   "id": "cf74599c-a644-4207-a465-6c296baa8f3e",
   "metadata": {},
   "source": [
    "### Exercice\n",
    "\n",
    "1. $\\blacksquare$ Définir et écrire une fonction `est_rectangle()` qui vérifie si un triangle est rectangle. Aucune hypothèse est effectuée sur les paramètres de ce traitement.\n",
    "2. Ecrire des tests unitaires adaptés. Justifier vos choix."
   ]
  },
  {
   "cell_type": "markdown",
   "id": "2bf8049a-9f3c-4e19-8fc6-61153e1a5678",
   "metadata": {},
   "source": [
    "### $\\blacksquare$ Exercice\n",
    "\n",
    "Ecrire une fonctions `tabup()` qui vérifie si les `n` valeurs d'un tableau sont rangées par ordre croissant. Ces valeurs sont des entiers.\n",
    "\n",
    "Accompagner votre développement avec quelques tests unitaires bien choisis."
   ]
  },
  {
   "cell_type": "markdown",
   "id": "5920056b-5986-481e-9f94-02ff4052a65e",
   "metadata": {
    "jp-MarkdownHeadingCollapsed": true,
    "tags": []
   },
   "source": [
    "(exo:tablst)=\n",
    "### $\\blacksquare$ Exercice (tableaux 1D)\n",
    "\n",
    "Soit `t` un tableau 1D\n",
    "d'entiers de taille `n` arbitraire. Voici quelques traitements\n",
    "classiques de ces tableaux et les fonctions associées.\n",
    "\n",
    "1.  `max_tab()` qui calcule et retourne la valeur maximale d'un tableau 1D.\n",
    "\n",
    "2.  `max_ind_max()` qui calcule et retourne le plus grand indice de la\n",
    "    valeur maximale d'un tableau 1D.\n",
    "\n",
    "3.  `min_ind_max()` : une modification de la fonction précédente qui\n",
    "    calcule et retourne le plus petit indice de la valeur maximale d'un\n",
    "    tableau 1D.\n",
    "\n",
    "Pour chacune de ces fonctions, deux questions.\n",
    "\n",
    "1.   Proposer des solutions itératives alternatives (`for` vs.\n",
    "    `while`) lorsque qu'elles conduisent à des traitements différents.\n",
    "\n",
    "2.  Tests unitaires : expliciter différents tableaux `t` qui\n",
    "    correspondent, le cas échéant, à des cas particuliers de traitement.\n",
    "    Les tester pour valider vos solutions."
   ]
  },
  {
   "cell_type": "markdown",
   "id": "a13eed25-866a-459a-b4b1-54adc80a21a5",
   "metadata": {
    "tags": []
   },
   "source": [
    "### $\\blacksquare$ Exercice (extrait d'examen 2017 sans machine)\n",
    "\n",
    "1.  Que calcule la fonction `m` suivante ?\n",
    "\n",
    "```python\n",
    "    def m(s : str, n : int, c : str ) -> int: \n",
    "        ''' role : à vous de deviner :) '''\n",
    "        res = 0\n",
    "        for i in range(n): \n",
    "            if s[i] == c: \n",
    "                res = res + 1 \n",
    "        return res\n",
    "```"
   ]
  },
  {
   "cell_type": "markdown",
   "id": "bac64c14-9e8a-4472-a6c4-ab7f4401e101",
   "metadata": {
    "jp-MarkdownHeadingCollapsed": true,
    "tags": []
   },
   "source": [
    "2.  Quel résultat produit l'exécution du code suivant ?\n",
    "\n",
    "```python\n",
    "    t = \"anticonstitutionnellement\" \n",
    "    nba = m(t, len(t), 'a') \n",
    "    nbe = m(t, len(t), 'e') \n",
    "    nbl = m(t, len(t), 'l') \n",
    "    print(len(t), nba, nbe, nbl)\n",
    "```"
   ]
  },
  {
   "cell_type": "markdown",
   "id": "4cc4010c-efa4-4217-ba11-77f41232f852",
   "metadata": {
    "jp-MarkdownHeadingCollapsed": true,
    "tags": []
   },
   "source": [
    "(que:mmavecm)=\n",
    "\n",
    "3.  Utiliser la fonction `m` pour écrire une fonction `mm` qui identifie\n",
    "    et retourne la lettre ayant le maximum d'occurrences dans une chaîne\n",
    "    de caractères de longueur `n`. Si plusieurs lettres conviennent,\n",
    "    l'algorithme identifiera celle dont l'occurrence est la plus tardive\n",
    "    dans `s`. Par exemple `'o'` dans `'toto'`.\n",
    "\n",
    "Accompagner cette fonction de quelques tests unitaires pertinents."
   ]
  },
  {
   "cell_type": "code",
   "execution_count": null,
   "id": "e10d9129",
   "metadata": {},
   "outputs": [],
   "source": [
    "def m(s : str, n : int, c : str ) -> int: \n",
    "    ''' role : à vous de deviner :) '''\n",
    "    res = 0\n",
    "    for i in range(n): \n",
    "        if s[i] == c: \n",
    "            res = res + 1 \n",
    "    return res"
   ]
  },
  {
   "cell_type": "code",
   "execution_count": null,
   "id": "5636857f",
   "metadata": {},
   "outputs": [],
   "source": [
    "def mm(s : str, n : int)->str:\n",
    "    maxi = 0\n",
    "    res = None\n",
    "    for i in range(n):\n",
    "        if m(s,n,s[i])>maxi:\n",
    "            res = s[i]\n",
    "    return res"
   ]
  },
  {
   "cell_type": "markdown",
   "id": "008707cc-d8e1-449c-8dcb-3b64776307ec",
   "metadata": {
    "jp-MarkdownHeadingCollapsed": true,
    "tags": []
   },
   "source": [
    "4.  Écrire le code qui utilise `mm` et fournit l'affichage suivant.\n",
    "\n",
    ">    t est la lettre qui apparaît le plus ( 5 fois) dans anticonstitutionnellement   \n",
    ">    o est la lettre qui apparaît le plus ( 2 fois) dans toto"
   ]
  },
  {
   "cell_type": "code",
   "execution_count": null,
   "id": "55cdeed9",
   "metadata": {},
   "outputs": [],
   "source": [
    "a = \"anticonstitutionnellement\"\n",
    "t = \"toto\"\n",
    "occ1 = mm(a,len(a))\n",
    "occ2=mm(t,len(t))\n",
    "m1 = m(a, len(a),occ1)\n",
    "m2 = m(t, len(t),occ2)\n",
    "print(occ1, \"est la lettre qui apparaît le plus souvent(\",m1, \"fois),dans :\",a)\n",
    "print(occ2, \"est la lettre qui apparaît le plus souvent(\",m2, \"fois),dans :\",t)\n"
   ]
  },
  {
   "cell_type": "markdown",
   "id": "7fcaf874-07ea-4807-a4cb-f35f5adcb81e",
   "metadata": {
    "jp-MarkdownHeadingCollapsed": true,
    "tags": []
   },
   "source": [
    "5.  Modifier `mm` pour que dans le cas d'une occurrence maximale\n",
    "    multiple, l'algorithme identifie la lettre de première occurrence.\n",
    "    Par exemple, `'t'` dans `'toto'`."
   ]
  },
  {
   "cell_type": "code",
   "execution_count": null,
   "id": "eded38ff",
   "metadata": {},
   "outputs": [],
   "source": [
    "def mm2(s : str, n : int)->str:\n",
    "    maxi = 0\n",
    "    res = None\n",
    "    for i in range(n):\n",
    "        if m(s,n,s[i])>maxi:\n",
    "            maxi = m(s,n,s[i])\n",
    "            res = s[i]\n",
    "    return res"
   ]
  },
  {
   "cell_type": "code",
   "execution_count": null,
   "id": "e6e6840b",
   "metadata": {},
   "outputs": [],
   "source": [
    "a1 = \"anticonstitutionnellement\"\n",
    "t1 = \"toto\"\n",
    "occ1bis = mm2(a,len(a))\n",
    "occ2bis=mm2(t,len(t))\n",
    "m1bis = m(a, len(a),occ1)\n",
    "m2bis = m(t, len(t),occ2)\n",
    "print(occ1bis, \"est la lettre qui apparaît le plus souvent(\",m1bis, \"fois),dans :\",a1)\n",
    "print(occ2bis, \"est la lettre qui apparaît le plus souvent(\",m2bis, \"fois),dans :\",t1)\n"
   ]
  },
  {
   "cell_type": "markdown",
   "id": "78fa8430-a4b1-4715-aaaf-6fddd184e8ca",
   "metadata": {
    "jp-MarkdownHeadingCollapsed": true,
    "tags": []
   },
   "source": [
    "6.  Réécrire la fonction `mm` de la\n",
    "    question  {ref}`que:mmavecm` \n",
    "    sans utiliser la fonction `m`. \n",
    "    Vérifier que les tests unitaires écrits plus haut valident cette version."
   ]
  },
  {
   "cell_type": "code",
   "execution_count": null,
   "id": "d1c5dac8",
   "metadata": {},
   "outputs": [],
   "source": [
    "def mm3(s : str, n : int)->str:\n",
    "    cpt = 0\n",
    "    maxi = 0\n",
    "    maxiocc = None\n",
    "    for i in range(len(s)):\n",
    "        cpt = 0\n",
    "        for j in range(len(s)):\n",
    "            if s[i] == s[j]:\n",
    "                cpt +=1\n",
    "        if maxi<cpt:\n",
    "            maxi = cpt\n",
    "            maxiocc = s[i]\n",
    "    return maxiocc"
   ]
  },
  {
   "cell_type": "code",
   "execution_count": null,
   "id": "43f99763",
   "metadata": {},
   "outputs": [],
   "source": [
    "a1 = \"anticonstitutionnellement\"\n",
    "t1 = \"toto\"\n",
    "\n",
    "assert mm3(a1,len(a1)) == mm2(a1,len(a1))\n",
    "assert mm3(t1,len(t1)) == mm2(t1,len(t1))\n"
   ]
  },
  {
   "cell_type": "markdown",
   "id": "caa452b7-ccd2-4925-a7a5-400b223fe915",
   "metadata": {
    "tags": []
   },
   "source": [
    "(exo:palindromeiter)\n",
    "### $\\blacksquare$ Exercice (palindrome)\n",
    "\n",
    "Un _palindrome_ est un mot, ou un groupe de mots, dont l'ordre des lettres\n",
    "reste le même qu'on le lise de la droite vers la gauche ou inversement.\n",
    "Des exemples bien connus sont \"été\", \"kayak\", \"mon nom\", \"élu par cette\n",
    "crapule\". Ce dernier permet d'illustrer qu'on ne tient pas compte en\n",
    "général des accents, trémas, cédilles, ni des espaces. Dans cet exercice\n",
    ":\n",
    "\n",
    "-   un mot ou un groupe de mots est représenté par une chaîne de\n",
    "    caractères (`str`),\n",
    "\n",
    "-   ces caractères sont sans accent, tréma, ni cédille : \"ete\"\n",
    "\n",
    "-   les espaces sont considérés comme des caractères : ainsi \"elu par\n",
    "    cette crapule\" n'est pas un palindrome ici.\n",
    "\n",
    "1.  Ecrire une fonction qui teste si un argument est ou non un\n",
    "    palindrome et retourne le booléen correspondant.\n",
    "2. Valider votre fonction avec des tests unitaires."
   ]
  },
  {
   "cell_type": "markdown",
   "id": "59ff8fdd",
   "metadata": {},
   "source": [
    "### 1) ###"
   ]
  },
  {
   "cell_type": "code",
   "execution_count": null,
   "id": "98c5cb76",
   "metadata": {},
   "outputs": [],
   "source": [
    "\"\"\"\n",
    "def pal(s : str, n : int)-> bool:\n",
    "    mot1 = \"\"\n",
    "    mot2 = \"\"\n",
    "    for i in range((len(s)//2)+1):\n",
    "        mot1[i] = s[i]\n",
    "    for j in range(len(s),len(s)//2, -1):\n",
    "        mot2[j] = s[j]\n",
    "        \n",
    "    if mot1 == mot2:\n",
    "        return True\n",
    "    return False\n",
    "\"\"\""
   ]
  },
  {
   "cell_type": "code",
   "execution_count": null,
   "id": "aae1397d",
   "metadata": {},
   "outputs": [],
   "source": [
    "def pal(s : str, n : int)-> bool:\n",
    "    for i in range(n):\n",
    "        if s[i] != s[n-1-i]:\n",
    "            return False\n",
    "    return True"
   ]
  },
  {
   "cell_type": "markdown",
   "id": "d1c8d364",
   "metadata": {},
   "source": [
    "### 2)"
   ]
  },
  {
   "cell_type": "code",
   "execution_count": null,
   "id": "cc637a7e",
   "metadata": {},
   "outputs": [],
   "source": [
    "s1 = \"ete\"\n",
    "s2 = \"kayak\"\n",
    "s3 = \"elu par cette crapule\"\n",
    "assert pal(s1,len(s1)) == True\n",
    "assert pal(s2,len(s2)) == True\n",
    "assert pal(s3,len(s3)) == False"
   ]
  },
  {
   "cell_type": "markdown",
   "id": "52322269-9e66-425c-9b59-a9d150286d38",
   "metadata": {
    "jp-MarkdownHeadingCollapsed": true,
    "tags": []
   },
   "source": [
    "### Exercice (produit scalaire)\n",
    "\n",
    "Rappel : le produit scalaire deux vecteurs orthogonaux est nul.\n",
    "\n",
    "Ecrire les fonctions qui vérifie l'orthogonalité ou non de vecteurs \n",
    "\n",
    "1. de taille 3,\n",
    "2. de taille arbitraire $n$.\n"
   ]
  },
  {
   "cell_type": "markdown",
   "id": "8f5e9ebc",
   "metadata": {},
   "source": [
    "### 1)"
   ]
  },
  {
   "cell_type": "code",
   "execution_count": null,
   "id": "df691dc3",
   "metadata": {},
   "outputs": [],
   "source": [
    "def ortho(u : list, v : list, n : int) -> bool:\n",
    "    assert len(u) == len(v)\n",
    "    res = 0\n",
    "    for i in range(3):\n",
    "        res = res + u[i]*v[i]\n",
    "        #print(res)\n",
    "    if res == 0:\n",
    "        return True\n",
    "    return False"
   ]
  },
  {
   "cell_type": "code",
   "execution_count": null,
   "id": "9ff8525e",
   "metadata": {},
   "outputs": [],
   "source": [
    "u1 = [1,2,-1]\n",
    "v1 = [2,-1,0]\n",
    "u2 = [1,2,3]\n",
    "v2 = [-3,0,1]\n",
    "u3 = [25,2,8]\n",
    "v3 = [97,0,4]\n",
    "assert ortho(u1, v1,len(u1)) == True\n",
    "assert ortho(u2, v2,len(u2)) == True\n",
    "assert ortho(u3, v3,len(u3)) == False"
   ]
  },
  {
   "cell_type": "markdown",
   "id": "9941e249",
   "metadata": {},
   "source": [
    "### 2)"
   ]
  },
  {
   "cell_type": "code",
   "execution_count": null,
   "id": "103d8831",
   "metadata": {},
   "outputs": [],
   "source": [
    "def ortho_n(u : list, v : list, n : int) -> bool:\n",
    "    assert len(u) == len(v)\n",
    "    res = 0\n",
    "    for i in range(n):\n",
    "        res = res + u[i]*v[i]\n",
    "        #print(res)\n",
    "    if res == 0:\n",
    "        return True\n",
    "    return False"
   ]
  },
  {
   "cell_type": "markdown",
   "id": "e6a75896-ee3c-4c48-8540-cd2302b17dc7",
   "metadata": {},
   "source": [
    "## Objectif 20\n",
    "\n",
    "**Consignes importantes** \n",
    "\n",
    "1. Proposer les fonctions les plus générales possibles.\n",
    "2. Accompagner chaque fonction écrite de quelques tests unitaires pertinents."
   ]
  },
  {
   "cell_type": "markdown",
   "id": "3bd2d06d-4ea0-4989-bc51-eb038bdc59a6",
   "metadata": {},
   "source": [
    "### Exercice (math)\n",
    "\n",
    "On continue l'exercice {ref}`(exo:fact)`. \n",
    "\n",
    "- Utiliser la fonction `factorielle()` pour écrire des fonctions qui  calculent les quantités suivantes.\n",
    "- En s'inspirant d'un exemple donné au chapitre 1, proposer des\n",
    "représentations graphiques qui illustrent les approximations mentionnées.\n",
    "\n",
    "1. Une approximation de $e \\approx \\sum_{k=0}^n 1/k !$, puis\n",
    "vérifier que l'approximation est d'autant plus précise que $n$\n",
    "est grand.\n",
    "2. La formule de Stirling $n! \\approx \\sqrt{2\\pi n} (n/e)^n$ qui\n",
    "donne un équivalent de la factorielle (et aussi une\n",
    "approximation de $\\pi$), approximation dont on vérifiera la\n",
    "pertinence.\n",
    "3. Même question pour $\\ln(n!) \\approx n\\ln(n)-n$ et des $n$ assez\n",
    "grands."
   ]
  },
  {
   "cell_type": "markdown",
   "id": "e34274b0",
   "metadata": {},
   "source": [
    "### 1)"
   ]
  },
  {
   "cell_type": "code",
   "execution_count": null,
   "id": "0916d3c4",
   "metadata": {},
   "outputs": [],
   "source": [
    "def factorielle(n : int) -> int:\n",
    "    res = 1\n",
    "    for i in range(n):\n",
    "        res += res * i\n",
    "    return res\n"
   ]
  },
  {
   "cell_type": "code",
   "execution_count": null,
   "id": "05abe3fa",
   "metadata": {},
   "outputs": [],
   "source": [
    "def expo(n : int)->int:\n",
    "    res = 0\n",
    "    for i in range(n):\n",
    "        res = res + (1 / factorielle(i))\n",
    "    return res"
   ]
  },
  {
   "cell_type": "code",
   "execution_count": null,
   "id": "75a9135d",
   "metadata": {},
   "outputs": [],
   "source": [
    "print(expo(1000))\n",
    "print(expo(1))\n",
    "assert expo(1) < expo(1000)"
   ]
  },
  {
   "cell_type": "markdown",
   "id": "b3e18382",
   "metadata": {},
   "source": [
    "### 2)"
   ]
  },
  {
   "cell_type": "code",
   "execution_count": null,
   "id": "72e2afab",
   "metadata": {},
   "outputs": [],
   "source": [
    "from math import*\n",
    "def stirling(n : int)->int:\n",
    "    res = (sqrt(2*pi*n)) * ((n/exp(1))**n)\n",
    "    return res"
   ]
  },
  {
   "cell_type": "code",
   "execution_count": null,
   "id": "0b336f87",
   "metadata": {},
   "outputs": [],
   "source": [
    "stirling(3)"
   ]
  },
  {
   "cell_type": "markdown",
   "id": "34aa1278",
   "metadata": {},
   "source": [
    "### 3)"
   ]
  },
  {
   "cell_type": "code",
   "execution_count": null,
   "id": "c120e588",
   "metadata": {},
   "outputs": [],
   "source": [
    "print(log(factorielle(100)))\n",
    "print(100 * log(100)-100)\n"
   ]
  },
  {
   "cell_type": "markdown",
   "id": "be4adf8d-5b19-41ea-b6a3-b458b77f702e",
   "metadata": {
    "jp-MarkdownHeadingCollapsed": true
   },
   "source": [
    "### Exercice (crible d'Eratosthène)\n",
    "\n",
    "1. Consulter la page wikipedia du [crible d'Eratosthène](https://fr.wikipedia.org/wiki/Crible_d%27Ératosthène)\n",
    "2. Écrire une fonction `est_premier()` qui retourne un booléen qui indique si un nombre entier donné $n$ est\n",
    "premier ou non."
   ]
  },
  {
   "cell_type": "markdown",
   "id": "3ae50c2b",
   "metadata": {},
   "source": [
    "### 1)"
   ]
  },
  {
   "cell_type": "code",
   "execution_count": null,
   "id": "955c395a",
   "metadata": {
    "scrolled": true
   },
   "outputs": [],
   "source": [
    "def bin(n : int)->int:"
   ]
  },
  {
   "cell_type": "markdown",
   "id": "54f606d3-0fef-4713-823b-429becee3fc0",
   "metadata": {},
   "source": [
    "(exo:pgcd)\n",
    "### Exercice (pgcd)\n",
    "\n",
    "Écrire une fonction `pgcd()` qui calcule le PGCD de deux entiers naturels. \n",
    "On utilisera l'algorithme d'Euclide.\n",
    "\n",
    "Rappel : l'algorithme d'Euclide utilise la propriété suivante. Le PGCD\n",
    "de $a$ et $b$, $a > b$, est égal à $b$ si le reste $r$ de la division\n",
    "euclidienne de $a$ par $b$ est nul, sinon il vaut le PGCD de $b$ et de\n",
    "$r$. Le PGCD de 2 nombres distincts premiers entre eux (*i.e.* sans\n",
    "diviseur commun autre que 1) est égal à 1. Cet exercice permet d'écrire\n",
    "une version itérative de cet algorithme."
   ]
  },
  {
   "cell_type": "code",
   "execution_count": null,
   "id": "37b03625",
   "metadata": {},
   "outputs": [],
   "source": [
    "# Algorithme d'Euclide pour le pgcd \n",
    "def pgcd(a : int ,b : int)->int:\n",
    "    while a%b != 0: \n",
    "        a, b = b, a%b \n",
    "    return b      "
   ]
  },
  {
   "cell_type": "code",
   "execution_count": null,
   "id": "65c8c700",
   "metadata": {},
   "outputs": [],
   "source": [
    "assert pgcd(7,3) == 1"
   ]
  },
  {
   "cell_type": "markdown",
   "id": "22dbf534-a9d2-4103-a0c8-d7c72ca9a6cd",
   "metadata": {
    "tags": []
   },
   "source": [
    "### Exercice (tableau 1D, écriture décimale)\n",
    "\n",
    "Ecrire une fonction qui transforme un tableau de 0 et de\n",
    "1 de longueur arbitraire, en l'entier de base 10 qui est codé par ce\n",
    "tableau en représentation de position en base 2 :\n",
    "\n",
    "$$\n",
    "(b_n b_{n-1} \\cdots b_1 b_0)_2 = (\\sum_{i=0}^n b_i \\times\n",
    "  2^i)_{10} \\text{ avec } b_i \\in \\{0, 1\\}.\n",
    "$$\n",
    "\n",
    "**Exemple.** la tableau $(1,0,1,1)$ représente l'entier $8+2+1 = 11$."
   ]
  },
  {
   "cell_type": "code",
   "execution_count": null,
   "id": "936245f7",
   "metadata": {},
   "outputs": [],
   "source": [
    "def binary(t : list, n : int) -> int:\n",
    "    res = 0\n",
    "    for i in range(n):\n",
    "        res += t[n-1-i] * 2 **i\n",
    "    return res"
   ]
  },
  {
   "cell_type": "code",
   "execution_count": null,
   "id": "83ec2e02",
   "metadata": {},
   "outputs": [],
   "source": [
    "bino = [1,1,0,1]\n",
    "assert binary(bino, len(bino)) == 13"
   ]
  },
  {
   "cell_type": "markdown",
   "id": "cb391fc5-37af-40cf-b808-151d8e76ddee",
   "metadata": {
    "tags": []
   },
   "source": [
    "### ($\\star$) Exercice (Algorithme de type Monte-Carlo)\n",
    "\n",
    "On va calculer une approximation de $\\pi$ de façon probabiliste.\n",
    "\n",
    "1.  Ecrire une fonction qui vérifie si un point du plan défini par ses\n",
    "    coordonnées $(x,y)$ appartient à un disque de centre $(a,b)$ et de\n",
    "    rayon $r$.  \n",
    "    Rappel. L'équation du cercle de mêmes caractéristiques est :\n",
    "    $(x-a)^2 + (y-b)^2 = r^2$.\n",
    "\n",
    "2.  Identifier dans la documentation du module python `random` la\n",
    "    fonction adaptée à la génération d'un point aléatoire dans le carré\n",
    "    $[-1, 1] \\times [-1, 1]$.\n",
    "\n",
    "3.  Soit $\\mathcal{C}$ le cercle de centre 0 et de rayon 1. Ecrire une\n",
    "    programme qui génère $n$ points aléatoires situés dans le carré\n",
    "    précédent et calcule le ratio entre les points situés dans le cercle\n",
    "    $\\mathcal{C}$ et $n$.\n",
    "\n",
    "4.  Faire varier $n$ et observer l'évolution de ce ratio.\n",
    "\n",
    "5.  ($\\star$) En déduire une approximation de $\\pi$."
   ]
  },
  {
   "cell_type": "markdown",
   "id": "56eb7b13",
   "metadata": {},
   "source": [
    "### 1)"
   ]
  },
  {
   "cell_type": "code",
   "execution_count": null,
   "id": "7c1e1deb",
   "metadata": {},
   "outputs": [],
   "source": [
    "def appartient(x : int, y : int, a: int, b: int,r : int)-> bool:\n",
    "    return ((x-a)**2 + (y-b)**2) <= r*r"
   ]
  },
  {
   "cell_type": "markdown",
   "id": "cd7affbc",
   "metadata": {},
   "source": [
    "### 2)"
   ]
  },
  {
   "cell_type": "code",
   "execution_count": null,
   "id": "7b13a834",
   "metadata": {},
   "outputs": [],
   "source": [
    "import random"
   ]
  },
  {
   "cell_type": "code",
   "execution_count": null,
   "id": "4994ff7e",
   "metadata": {},
   "outputs": [],
   "source": [
    "help(random.uniform)"
   ]
  },
  {
   "cell_type": "code",
   "execution_count": null,
   "id": "679fb083",
   "metadata": {},
   "outputs": [],
   "source": [
    "def generer_pt()->float:\n",
    "    x = random.uniform(-1,1) *100 /100\n",
    "    tmpx = int(x * 100)/100\n",
    "    y = random.uniform(-1.0,1.0)\n",
    "    tmpy = int(y*100)/100\n",
    "    return tmpx,tmpy"
   ]
  },
  {
   "cell_type": "code",
   "execution_count": null,
   "id": "bf223022",
   "metadata": {},
   "outputs": [],
   "source": [
    "generer_pt()"
   ]
  },
  {
   "cell_type": "markdown",
   "id": "b961c5cf",
   "metadata": {},
   "source": [
    "### 3) et 4)"
   ]
  },
  {
   "cell_type": "code",
   "execution_count": null,
   "id": "1da2f55e",
   "metadata": {},
   "outputs": [],
   "source": [
    "n = int(input(\"n = \"))\n",
    "nb_appartient = 0\n",
    "for i in range(n):\n",
    "    tmpx, tmpy = generer_pt()\n",
    "    print(\"tmpx = \", tmpx,\"| tmpy = \", tmpy)\n",
    "    if appartient(tmpx, tmpy,0,0,1) == True:\n",
    "        nb_appartient += 1\n",
    "ratio = nb_appartient / n\n",
    "aprx_pi = ratio * 4\n",
    "print(\"le ratio est de\", ratio)\n",
    "print(\"une approximation de pi est de \", aprx_pi)"
   ]
  },
  {
   "cell_type": "markdown",
   "id": "6d360a6d-6288-4a9e-a813-dcc64856ebc6",
   "metadata": {
    "jp-MarkdownHeadingCollapsed": true
   },
   "source": [
    "### ($\\star\\star$) Exercice\n",
    "\n",
    "On souhaite évaluer la valeur d'un polynôme de degré $3$,\n",
    "$p_3(x) = a_0 + a_1 x + a_2 x^2 + a_3 x^3$, en des valeurs $x$ arbitraires.\n",
    "\n",
    "1. Écrire une fonction `eval()` qui calcule et retourne $p_3(x)$.\n",
    "2. Ecrire un algorithme qui utilise cette fonction pour des valeurs\n",
    "    entrées au clavier et affiche le résultat à l'écran.\n",
    "4. ($\\star$) Détailler le principe d'un algorithme qui calcule une racine d'un\n",
    "    polynôme sur un intervalle $[a, b]$ donné. La présence d'une racine\n",
    "    *unique* sur $[a, b]$ sera admise MAIS l'existence d'une racine sera\n",
    "    vérifiée par cet algorithme. Introduire un paramètre adapté au\n",
    "    caractère approximatif de la valeur calculée.\n",
    "5.  Écrire un algorithme principal qui effectue cette recherche pour un\n",
    "    polynôme $p_3$ de degré $3$ et un intervalle $[a, b]$ donnés. Tous\n",
    "    les paramètres sont entrés au clavier.\n",
    "6.  ($\\star\\star$) Appliquer cet algorithme pour retrouver, une à une, les racines de\n",
    "    $p(x)=x(x-1)(x-2)$. Ce polynôme sera considéré sous sa forme développée."
   ]
  },
  {
   "cell_type": "markdown",
   "id": "2d806667",
   "metadata": {},
   "source": [
    "### 1)"
   ]
  },
  {
   "cell_type": "code",
   "execution_count": null,
   "id": "c5ac4179",
   "metadata": {},
   "outputs": [],
   "source": [
    "def eval(a0 : int, a1 : int, a2 : int, x : int) -> float:\n",
    "    "
   ]
  },
  {
   "cell_type": "markdown",
   "id": "9fe9a3e3-7860-4c9e-a55d-c92d91a0ab6d",
   "metadata": {},
   "source": [
    "### $\\blacksquare$ Exercice (tableau 2D)\n",
    "\n",
    "1.  Écrire une fonction qui, pour les deux paramètres entiers `a` et `b` ($a  \\le b$), calcule la table de multiplication entre les entiers compris entre `a` et `b` inclus. Le résultat attendu est un tableau 2D : la case $(i,j)$ du tableau contient le résultat de\n",
    "$i \\times j$. La table des multiplications entre 1 et 10 est obtenue pour $a = 1$ et $b= 10$.\n",
    "1.  Utiliser cette fonction pour afficher cette table pour des valeurs de `a` et `b` entrées au clavier."
   ]
  },
  {
   "cell_type": "markdown",
   "id": "08c1080e",
   "metadata": {},
   "source": [
    "### 1)"
   ]
  },
  {
   "cell_type": "code",
   "execution_count": null,
   "id": "6c8fa934",
   "metadata": {},
   "outputs": [],
   "source": []
  },
  {
   "cell_type": "markdown",
   "id": "69b65a6f-fc29-4262-b117-dd457b8b971d",
   "metadata": {
    "tags": []
   },
   "source": [
    "### Exercice (tableau 2D)\n",
    "\n",
    "Les fonctions suivantes seront définies et utilisées dans\n",
    "un programme (principal) qui définit des tableaux que vous choisirez\n",
    "pour vérifier la validité de vos traitements. Vous choisirez la\n",
    "structure de donnée la plus adaptée à ces traitements.\n",
    "\n",
    "1.  Ecrire une fonction `est_egal()` qui réalise la comparaison entre\n",
    "    deux tableaux de dimension 1 et retourne le booléen correspondant.\n",
    "    On convient que deux tableaux sont égaux si leurs tailles sont\n",
    "    égales et si leurs valeurs sont égales deux à deux.\n",
    "\n",
    "2.  Ecrire une fonction `nb_val_egales()` qui retourne le nombre de valeurs\n",
    "    égales deux à deux entre deux tableaux de dimension 1. \n",
    "\n",
    "3.  Reprendre les 2 questions précédentes pour des tableaux 2D.\n",
    "    L'égalité entre tableaux multi-dimensionnels suppose l'égalité des\n",
    "    dimensions, des tailles deux à deux dans chaque dimension, et des\n",
    "    valeurs deux à deux pour toutes les valeurs du tableau. \n",
    "    De même pour le décompte des valeurs égales deux à deux."
   ]
  },
  {
   "cell_type": "markdown",
   "id": "517f4320",
   "metadata": {},
   "source": [
    "### 1)"
   ]
  },
  {
   "cell_type": "code",
   "execution_count": null,
   "id": "f05a1f17",
   "metadata": {},
   "outputs": [],
   "source": [
    "def table(a : int, b : int) -> list[list[int]]:\n",
    "    assert a<=b\n",
    "    t = [[0 for i in range(b+1)] for j in range(b+1)]\n",
    "    for i in range(b+1):\n",
    "        for j in range(b+1):\n",
    "            t[i][j] = i*j\n",
    "    return t"
   ]
  },
  {
   "cell_type": "code",
   "execution_count": null,
   "id": "af1bbcfb",
   "metadata": {},
   "outputs": [],
   "source": [
    "a = int(input(\"a= \"))\n",
    "b = int(input(\"b =\"))\n",
    "table(a,b)"
   ]
  },
  {
   "cell_type": "markdown",
   "id": "b75d14c8-942a-48e7-b1d0-42f610636629",
   "metadata": {},
   "source": [
    "(exo:verif)=\n",
    "### $\\blacksquare$ Exercice (matrices)\n",
    "\n",
    "Ecrire les algorithmes de vérification suivants pour une matrice $M$\n",
    "donnée, carrée de taille $n$ et à valeurs flottantes.\n",
    "\n",
    "1.  $M$ est diagonale ?\n",
    "\n",
    "2.  $M$ est symétrique ?\n",
    "\n",
    "3.  $M$ est égale à l'identité ?\n",
    "\n",
    "4.  $M$ est l'inverse d'une autre matrice donnée $N$ ?"
   ]
  },
  {
   "cell_type": "markdown",
   "id": "3c3c825c",
   "metadata": {},
   "source": [
    "### 1)"
   ]
  },
  {
   "cell_type": "code",
   "execution_count": 11,
   "id": "f5ea1faa",
   "metadata": {},
   "outputs": [],
   "source": [
    "def est_diagonale(mat : list[list[float]], n : int) -> bool:\n",
    "    for i in range(n):\n",
    "        for j in range(n):\n",
    "            if i != j and mat[i][j] != 0:                  \n",
    "                return False\n",
    "    return True"
   ]
  },
  {
   "cell_type": "code",
   "execution_count": 13,
   "id": "4a9d4349",
   "metadata": {},
   "outputs": [],
   "source": [
    "m1 = [[1,0,0],[0,9,0],[0,0,5]]\n",
    "m2 = [[0,0,0],[0,0,1],[0,0,0]]\n",
    "assert est_diagonale(m1,3) == True\n",
    "assert est_diagonale(m2,3) == False\n"
   ]
  },
  {
   "cell_type": "markdown",
   "id": "5ab15dd1",
   "metadata": {},
   "source": [
    "### 2)"
   ]
  },
  {
   "cell_type": "code",
   "execution_count": 33,
   "id": "ae6fc035",
   "metadata": {},
   "outputs": [],
   "source": [
    "def est_symetrique(mat : list[list[float]], n : int) -> bool:\n",
    "    mat2 = [[0 for i in range(n)] for j in range(n)]\n",
    "    for i in range(n):\n",
    "        for j in range(n):\n",
    "            mat2[i][j] = mat[j][i]\n",
    "    return mat2 == mat   "
   ]
  },
  {
   "cell_type": "code",
   "execution_count": 34,
   "id": "00d9fab6",
   "metadata": {},
   "outputs": [],
   "source": [
    "m3 = [[1,2,4],[2,5,7],[4,7,3]]\n",
    "m4 = [[2,5,6],[5,9,0],[7,4,3]]\n",
    "m5 = [[1,5,3],[5,2,6],[3,6,7]]\n",
    "assert est_symetrique(m3, 3) == True\n",
    "assert est_symetrique(m4, 3) == False\n",
    "assert est_symetrique(m5, 3) == True"
   ]
  },
  {
   "cell_type": "markdown",
   "id": "c48b3285",
   "metadata": {},
   "source": [
    "### 3)"
   ]
  },
  {
   "cell_type": "code",
   "execution_count": 1,
   "id": "ac9897e2",
   "metadata": {},
   "outputs": [],
   "source": [
    "def egal_identite(mat : list[list[float]], n : int) -> bool:\n",
    "    identite = [[0 for i in range(n)] for j in range(n)]\n",
    "    for i in range(n):\n",
    "        for j in range(n):\n",
    "            if i==j:\n",
    "                identite[i][j] = 1\n",
    "    return mat == identite"
   ]
  },
  {
   "cell_type": "code",
   "execution_count": 2,
   "id": "19b54a22",
   "metadata": {},
   "outputs": [],
   "source": [
    "m6 = [[1,0,0],[0,1,0],[0,0,1]]\n",
    "m7 = [[1,0,0],[0,1,0],[0,1,1]]\n",
    "assert egal_identite(m6,len(m6)) == True\n",
    "assert egal_identite(m7,len(m7)) == False"
   ]
  },
  {
   "cell_type": "markdown",
   "id": "166c0205",
   "metadata": {},
   "source": [
    "### 4)"
   ]
  },
  {
   "cell_type": "code",
   "execution_count": 3,
   "id": "621f47ce",
   "metadata": {},
   "outputs": [],
   "source": [
    "def est_inverse(mat1 : list[list[float]], mat2 : list[list[float]], n : int) -> bool:\n",
    "    c = [[0 for i in range(n)] for j in range(n)]\n",
    "    for i in range(n):\n",
    "        for j in range(n):\n",
    "            for k in range(n):\n",
    "                c[i][j] += mat1[i][k] * mat2[k][j]\n",
    "    return egal_identite(c, n)"
   ]
  },
  {
   "cell_type": "code",
   "execution_count": 16,
   "id": "2af07a91",
   "metadata": {},
   "outputs": [],
   "source": [
    "m6 = [[1,2,3],[0,1,4],[0,0,1]]\n",
    "m7 = [[1,-2,5],[0,1,-4],[0,0,1]]\n",
    "m8 = [[1,1,2],[1,2,1],[2,1,1]]\n",
    "m9 = [[-1/4,-1/4,3/4],[-1/4,3/4,-1/4],[3/4,-1/4,-1/4]]\n",
    "m10 =[[5,2,9],[8,7,9],[1,0,3]]\n",
    "assert est_inverse(m6,m7,len(m6)) == True\n",
    "assert est_inverse(m8,m9,len(m8)) == True\n",
    "assert est_inverse(m7,m10, len(m7)) == False"
   ]
  },
  {
   "cell_type": "markdown",
   "id": "8ad25e7f-254f-4789-a15e-3ef2e097cf9e",
   "metadata": {
    "tags": []
   },
   "source": [
    "(exo:imnb)=\n",
    "### $\\blacksquare$ Exercice (images NB)\n",
    "\n",
    "**Note.** Cet exercice est inspiré d'un extrait de sujet d'examen.\n",
    "Il comporte des questions Objectifs 10 et Objectif 20.\n",
    "\n",
    "Une image 2D peut être représentée par un tableau 2D de _pixels_.  \n",
    "Une image \"noir et blanc\" de taille $L \\times C$ est ainsi représentée\n",
    "par un tableau de $L$ lignes et $C$ colonnes, de 0 (pixel blanc) ou de\n",
    "1 (pixel noir).  \n",
    "Les images suivantes sont des exemples d'images 3 $\\times$ 4. "
   ]
  },
  {
   "cell_type": "markdown",
   "id": "de425b70-9486-4213-b345-7dde0b45ad4f",
   "metadata": {},
   "source": [
    "```{image} fig/3x4-blanc.png\n",
    ":alt: image blanche\n",
    ":height: 20mm\n",
    ":name: 1\n",
    "```\n",
    "```{image} fig/3x4-nb-centre.png\n",
    ":alt: 2 pixels noirs au centre\n",
    ":height: 20mm\n",
    "```\n",
    "```{image} fig/3x4-tri.png\n",
    ":alt: triangle inférieur noir\n",
    ":height: 20mm\n",
    "```"
   ]
  },
  {
   "cell_type": "markdown",
   "id": "1991f4bc-2e6b-4573-9404-754fc9036274",
   "metadata": {},
   "source": [
    "L'image blanche (à gauche) est représentée par le tableau de taille $3 \\times\n",
    "4$ (une liste de listes de 0) donné par le code python suivant."
   ]
  },
  {
   "cell_type": "code",
   "execution_count": 135,
   "id": "a9897d57-d06c-47d3-9593-45fb2ce4203a",
   "metadata": {},
   "outputs": [
    {
     "name": "stdout",
     "output_type": "stream",
     "text": [
      "[[0, 0, 0, 0], [0, 0, 0, 0], [0, 0, 0, 0]]\n",
      "3 4\n"
     ]
    }
   ],
   "source": [
    "l = 3\n",
    "c = 4\n",
    "t = [[0 for i in range(c)] for j in range(l)]\n",
    "\n",
    "print(t)\n",
    "print(len(t), len(t[0]))"
   ]
  },
  {
   "cell_type": "code",
   "execution_count": 136,
   "id": "1d3e35a0",
   "metadata": {},
   "outputs": [
    {
     "data": {
      "text/plain": [
       "'\\nfor i in range(3):\\n    for j in range(4):\\n        print(t[i][j], end=\" \")\\n    print()\\n'"
      ]
     },
     "execution_count": 136,
     "metadata": {},
     "output_type": "execute_result"
    }
   ],
   "source": [
    "\"\"\"\n",
    "for i in range(3):\n",
    "    for j in range(4):\n",
    "        print(t[i][j], end=\" \")\n",
    "    print()\n",
    "\"\"\""
   ]
  },
  {
   "cell_type": "markdown",
   "id": "8a283e72-feb3-45bb-be78-1653b4ac489b",
   "metadata": {},
   "source": [
    "#### Premières transformations d'images 3 $\\times$ 4.\n",
    "  \n",
    "1. Ecrire l'algorithme qui transforme l'image blanche (à gauche) en une image noire 3 $\\times$ 4 sans définir un autre tableau.\n",
    "2. Ecrire l'algorithme qui transforme l'image blanche en l'image du centre.\n",
    "3. Ecrire l'algorithme qui transforme l'image blanche en l'image de droite."
   ]
  },
  {
   "cell_type": "markdown",
   "id": "46b7838d",
   "metadata": {},
   "source": [
    "### 1)"
   ]
  },
  {
   "cell_type": "code",
   "execution_count": 137,
   "id": "30beddb8",
   "metadata": {},
   "outputs": [],
   "source": [
    "for i in range(l):\n",
    "    for j in range(c):\n",
    "        t[i][j] = 1"
   ]
  },
  {
   "cell_type": "code",
   "execution_count": 138,
   "id": "4d99db72",
   "metadata": {
    "scrolled": true
   },
   "outputs": [
    {
     "name": "stdout",
     "output_type": "stream",
     "text": [
      "[[1, 1, 1, 1], [1, 1, 1, 1], [1, 1, 1, 1]]\n"
     ]
    }
   ],
   "source": [
    "print(t)"
   ]
  },
  {
   "cell_type": "markdown",
   "id": "721b420e",
   "metadata": {},
   "source": [
    "### 2)"
   ]
  },
  {
   "cell_type": "code",
   "execution_count": 139,
   "id": "67ed322d",
   "metadata": {},
   "outputs": [
    {
     "name": "stdout",
     "output_type": "stream",
     "text": [
      "[[0, 0, 0, 0], [0, 0, 0, 0], [0, 0, 0, 0]]\n",
      "3 4\n"
     ]
    }
   ],
   "source": [
    "l = 3\n",
    "c = 4\n",
    "t = [[0 for i in range(c)] for j in range(l)]\n",
    "\n",
    "print(t)\n",
    "print(len(t), len(t[0]))"
   ]
  },
  {
   "cell_type": "code",
   "execution_count": 140,
   "id": "59ec20dd",
   "metadata": {},
   "outputs": [],
   "source": [
    "for i in range(l):\n",
    "    for j in range(c):\n",
    "        if 1<=j<=2 and i==1:\n",
    "            t[i][j] = 1"
   ]
  },
  {
   "cell_type": "code",
   "execution_count": 141,
   "id": "fa55f0f4",
   "metadata": {},
   "outputs": [
    {
     "name": "stdout",
     "output_type": "stream",
     "text": [
      "[[0, 0, 0, 0], [0, 1, 1, 0], [0, 0, 0, 0]]\n"
     ]
    }
   ],
   "source": [
    "print(t)"
   ]
  },
  {
   "cell_type": "markdown",
   "id": "fd1c5dae",
   "metadata": {},
   "source": [
    "### 3)"
   ]
  },
  {
   "cell_type": "code",
   "execution_count": 142,
   "id": "647bb243",
   "metadata": {},
   "outputs": [
    {
     "name": "stdout",
     "output_type": "stream",
     "text": [
      "[[0, 0, 0, 0], [0, 0, 0, 0], [0, 0, 0, 0]]\n",
      "3 4\n"
     ]
    }
   ],
   "source": [
    "l = 3\n",
    "c = 4\n",
    "t = [[0 for i in range(c)] for j in range(l)]\n",
    "\n",
    "print(t)\n",
    "print(len(t), len(t[0]))"
   ]
  },
  {
   "cell_type": "code",
   "execution_count": 143,
   "id": "186aa97c",
   "metadata": {},
   "outputs": [],
   "source": [
    "for i in range(l):\n",
    "    for j in range(c):\n",
    "        if i>= j:\n",
    "            t[i][j] = 1"
   ]
  },
  {
   "cell_type": "code",
   "execution_count": 144,
   "id": "70d69786",
   "metadata": {},
   "outputs": [
    {
     "name": "stdout",
     "output_type": "stream",
     "text": [
      "[[1, 0, 0, 0], [1, 1, 0, 0], [1, 1, 1, 0]]\n"
     ]
    }
   ],
   "source": [
    "print(t)"
   ]
  },
  {
   "cell_type": "markdown",
   "id": "d1802a01-3c29-4809-86d2-02513b4c8537",
   "metadata": {},
   "source": [
    "#### Fonctions et transformation d'image de taille arbitraire.  \n",
    "\n",
    "On considère la dernière transformation où la partie\n",
    "triangulaire inférieure est noircie. Selon la forme de la matrice, cette\n",
    "partie noircie est un triangle (matrice rectangulaire \"allongée\"\n",
    "horizontalement) ou un trapèze (matrice rectangulaire \"allongée\"\n",
    "verticalement). On va définir cette transformation sous la forme d'une\n",
    "fonction.\n",
    "\n",
    "1. Ecrire l'en-tête de cette fonction `tr()`\n",
    "2. Appliquer cette fonction à l'image blanche de gauche.\n",
    "3. Ecrire le corps de la fonction `tr()`.\n",
    "4. ($\\star$) Définir une image `t2` de taille 4 $\\times$ 8 composée de\n",
    "      lignes alternativement blanche et noire \n",
    "(que:im4)=\n",
    "5.  On applique la fonction `tr()` à cette image. Dessiner \"à la main\" l'image ainsi transformée.\n",
    "6. Ecrire ce traitement à l'aide de la fonction `tr()`\n"
   ]
  },
  {
   "cell_type": "code",
   "execution_count": 145,
   "id": "ad8a34c6",
   "metadata": {},
   "outputs": [
    {
     "name": "stdout",
     "output_type": "stream",
     "text": [
      "[[0, 0, 0, 0], [0, 0, 0, 0], [0, 0, 0, 0]]\n",
      "3 4\n"
     ]
    }
   ],
   "source": [
    "l = 3\n",
    "c = 4\n",
    "t = [[0 for i in range(c)] for j in range(l)]\n",
    "\n",
    "print(t)\n",
    "print(len(t), len(t[0]))"
   ]
  },
  {
   "cell_type": "markdown",
   "id": "2f9b0c4c",
   "metadata": {},
   "source": [
    "### 1)"
   ]
  },
  {
   "cell_type": "code",
   "execution_count": 146,
   "id": "24ac67b6",
   "metadata": {},
   "outputs": [],
   "source": [
    "def tr(tab : list[list[int]], l1 : int, c1 : int) -> list:\n",
    "    \"\"\" Fonction qui noircie la partie inférieure d'une image \"\"\"\n",
    "    pass"
   ]
  },
  {
   "cell_type": "markdown",
   "id": "3a8cc5ad",
   "metadata": {},
   "source": [
    "### 2)"
   ]
  },
  {
   "cell_type": "code",
   "execution_count": 149,
   "id": "2c348d0e",
   "metadata": {},
   "outputs": [
    {
     "name": "stdout",
     "output_type": "stream",
     "text": [
      "[[1, 0, 0, 0], [1, 1, 0, 0], [1, 1, 1, 0]]\n"
     ]
    }
   ],
   "source": [
    "print(tr(t,l,c))"
   ]
  },
  {
   "cell_type": "markdown",
   "id": "49e9c9a6",
   "metadata": {},
   "source": [
    "### 3)"
   ]
  },
  {
   "cell_type": "code",
   "execution_count": 150,
   "id": "f3ef569a",
   "metadata": {},
   "outputs": [],
   "source": [
    "def tr(tab : list[list[int]], l1 : int, c1 : int) -> list:\n",
    "    \"\"\" Fonction qui noircie la partie inférieure d'une image \"\"\"\n",
    "    for i in range(l1):\n",
    "        for j in range(c1):\n",
    "            if j<= i:\n",
    "                tab[i][j] = 1\n",
    "    return tab"
   ]
  },
  {
   "cell_type": "markdown",
   "id": "b0aacc77",
   "metadata": {},
   "source": [
    "### 4)"
   ]
  },
  {
   "cell_type": "code",
   "execution_count": 154,
   "id": "2009c4ad",
   "metadata": {},
   "outputs": [
    {
     "name": "stdout",
     "output_type": "stream",
     "text": [
      "[[0, 0, 0, 0, 0, 0, 0, 0], [1, 1, 1, 1, 1, 1, 1, 1], [0, 0, 0, 0, 0, 0, 0, 0], [1, 1, 1, 1, 1, 1, 1, 1]]\n"
     ]
    }
   ],
   "source": [
    "l2 = 4\n",
    "c2 = 8\n",
    "t2 = [[0 for i in range(c2)] for j in range(l2)]\n",
    "#print(t2)\n",
    "for i in range(l2):\n",
    "    for j in range(c2):\n",
    "        if i%2 != 0:\n",
    "            t2[i][j] = 1\n",
    "print(t2)           "
   ]
  },
  {
   "cell_type": "markdown",
   "id": "59d2fe7c",
   "metadata": {},
   "source": [
    "### 6) "
   ]
  },
  {
   "cell_type": "code",
   "execution_count": 155,
   "id": "05f92fd0",
   "metadata": {},
   "outputs": [
    {
     "data": {
      "text/plain": [
       "[[1, 0, 0, 0, 0, 0, 0, 0],\n",
       " [1, 1, 1, 1, 1, 1, 1, 1],\n",
       " [1, 1, 1, 0, 0, 0, 0, 0],\n",
       " [1, 1, 1, 1, 1, 1, 1, 1]]"
      ]
     },
     "execution_count": 155,
     "metadata": {},
     "output_type": "execute_result"
    }
   ],
   "source": [
    "tr(t2,l2,c2)"
   ]
  },
  {
   "cell_type": "markdown",
   "id": "5285340c-e0ed-448a-83cf-70f124fe61e3",
   "metadata": {},
   "source": [
    "#### Analyse d'une image de taille arbitraire.\n",
    "\n",
    "1.  Ecrire une fonction `nbpixblc()` qui compte et retourne le\n",
    "    nombre de pixels blanc d'une image de taille arbitraire\n",
    "\n",
    "2.  Que retourne l'application de cette fonction à l'image (4) de la\n",
    "    question {ref}`que:im4``."
   ]
  },
  {
   "cell_type": "markdown",
   "id": "3093b70f",
   "metadata": {},
   "source": [
    "### 1) "
   ]
  },
  {
   "cell_type": "code",
   "execution_count": 158,
   "id": "9f58b555",
   "metadata": {},
   "outputs": [],
   "source": [
    "def nbpixblc(tab : list[list[int]], l1 : int, c1 : int) -> int:\n",
    "    cpt = 0\n",
    "    for i in range(l1):\n",
    "        for j in range(c2):\n",
    "            if tab[i][j] == 1:\n",
    "                cpt += 1\n",
    "    return cpt"
   ]
  },
  {
   "cell_type": "markdown",
   "id": "c1c23434",
   "metadata": {},
   "source": [
    "### 2)\n",
    "###### 16 pix. blancs pour l'image 4 non transformée et 12 pix blancs après transformation tr()"
   ]
  },
  {
   "cell_type": "markdown",
   "id": "fc4742d7-bf5f-49ec-801f-1a07e00c3aa3",
   "metadata": {},
   "source": [
    "### Exercice.\n",
    "\n",
    "De façon similaire à l'[exercice précédent](exo:imnb), on définit des images à\n",
    "niveaux de gris par un tableau 2D d'entiers compris en 0 (noir) et 255\n",
    "(blanc). La taille de l'image $L \\times C$ est arbitraire.  \n",
    "Ecrire les algorithmes des traitements suivants. On pourra commencer en\n",
    "introduisant un tableau supplémentaire pour l'image transformée. Selon\n",
    "les cas, on essaiera ensuite une solution “en place” : la transformation\n",
    "s'effectue sur le tableau de l'image d'origine.\n",
    "\n",
    "1.  Générer le négatif (*reverse video*) d'une image NB ou par niveaux\n",
    "    de gris.\n",
    "\n",
    "2.  Générer une image NB à partir d'une image niveau de gris.\n",
    "\n",
    "3.  Augmenter le contraste de la transformation précédente.  \n",
    "    Principe : fixer un seuil et remplacer les pixels plus clairs que le\n",
    "    seuil par des pixels blancs, et inversement les plus sombres que le\n",
    "    seuil par des pixels noirs.\n",
    "\n",
    "4.  Générer une image miroir vertical (le haut se retrouve en bas et\n",
    "    réciproquement) ou horizontal d'une image NB.\n",
    "\n",
    "5.  Augmenter la luminosité (ou luminance) d'une image à niveau de\n",
    "    gris.  \n",
    "    Principe : ajouter ou retrancher une constante de la valeur des\n",
    "    pixels.\n",
    "\n",
    "6.  Générer les contours significatifs d'une image.  \n",
    "    Principe : on remplace par un pixel noir chaque pixel dont la\n",
    "    variation des valeurs de ses 4 voisins varient au delà d'un certain\n",
    "    seuil, sinon on le remplace par un pixel blanc.\n",
    "\n",
    "7.  Réduire par 2 la taille d'une image à niveau de gris.  \n",
    "    Principe : chaque carré de 2x2 pixels est remplacé par 1 pixel de\n",
    "    valeur la moyenne des pixels du carré."
   ]
  },
  {
   "cell_type": "code",
   "execution_count": null,
   "id": "ca03ddd2-d297-46ae-a74d-da3b5064a3e0",
   "metadata": {},
   "outputs": [],
   "source": []
  }
 ],
 "metadata": {
  "kernelspec": {
   "display_name": "Python 3 (ipykernel)",
   "language": "python",
   "name": "python3"
  },
  "language_info": {
   "codemirror_mode": {
    "name": "ipython",
    "version": 3
   },
   "file_extension": ".py",
   "mimetype": "text/x-python",
   "name": "python",
   "nbconvert_exporter": "python",
   "pygments_lexer": "ipython3",
   "version": "3.11.5"
  }
 },
 "nbformat": 4,
 "nbformat_minor": 5
}
